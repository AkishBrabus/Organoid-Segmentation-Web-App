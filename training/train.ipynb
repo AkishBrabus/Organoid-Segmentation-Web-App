{
 "cells": [
  {
   "cell_type": "code",
   "execution_count": 3,
   "metadata": {
    "ExecuteTime": {
     "end_time": "2024-05-02T22:12:20.865322100Z",
     "start_time": "2024-05-02T22:12:20.668927100Z"
    }
   },
   "outputs": [],
   "source": [
    "import numpy as np\n",
    "import os\n",
    "import importlib\n",
    "import EmbedSeg.utils.create_dicts\n",
    "importlib.reload(EmbedSeg.utils.create_dicts)\n",
    "from EmbedSeg.train import begin_training\n",
    "from EmbedSeg.utils.create_dicts import create_dataset_dict, create_model_dict, create_loss_dict, create_configs\n",
    "import torch\n",
    "from matplotlib.colors import ListedColormap\n",
    "import json\n",
    "\n"
   ]
  },
  {
   "cell_type": "markdown",
   "metadata": {
    "heading_collapsed": true
   },
   "source": [
    "### Specify the path to `train`, `val` crops and the type of `center` embedding which we would like to train the network for:"
   ]
  },
  {
   "cell_type": "markdown",
   "metadata": {
    "hidden": true
   },
   "source": [
    "The train-val images, masks and center-images will be accessed from the path specified by `data_dir` and `project-name`.\n",
    "<a id='center'></a>"
   ]
  },
  {
   "cell_type": "code",
   "execution_count": 4,
   "metadata": {
    "hidden": true,
    "ExecuteTime": {
     "end_time": "2024-05-02T22:12:20.935617100Z",
     "start_time": "2024-05-02T22:12:20.689114600Z"
    }
   },
   "outputs": [
    {
     "name": "stdout",
     "output_type": "stream",
     "text": [
      "Project Name chosen as : Colon Organoid 5_2_2024. \n",
      "Train-Val images-masks-center-images will be accessed from : C:\\Users\\cryst\\Desktop\\Organoid-Segmentation-Web-App\\training\\Colon Organoid 5_2_2024\n"
     ]
    }
   ],
   "source": [
    "data_dir = r'C:\\Users\\cryst\\Desktop\\Organoid-Segmentation-Web-App\\training'\n",
    "project_name = 'Colon Organoid 5_2_2024'\n",
    "project_dir = os.path.join(data_dir, project_name)\n",
    "center = 'medoid' # 'centroid', 'approximate-medoid', 'medoid'\n",
    "\n",
    "print(\"Project Name chosen as : {}. \\nTrain-Val images-masks-center-images will be accessed from : {}\".format(project_name, project_dir))"
   ]
  },
  {
   "cell_type": "code",
   "execution_count": 5,
   "metadata": {
    "hidden": true,
    "ExecuteTime": {
     "end_time": "2024-05-02T22:12:20.935617100Z",
     "start_time": "2024-05-02T22:12:20.701208900Z"
    }
   },
   "outputs": [
    {
     "name": "stdout",
     "output_type": "stream",
     "text": [
      "Spatial Embedding Location chosen as : medoid\n"
     ]
    }
   ],
   "source": [
    "try:\n",
    "    assert center in {'medoid', 'approximate-medoid', 'centroid'}\n",
    "    print(\"Spatial Embedding Location chosen as : {}\".format(center))\n",
    "except AssertionError as e:\n",
    "    e.args += ('Please specify center as one of : {\"medoid\", \"approximate-medoid\", \"centroid\"}', 42)\n",
    "    raise"
   ]
  },
  {
   "cell_type": "markdown",
   "metadata": {},
   "source": [
    "### Obtain properties of the dataset "
   ]
  },
  {
   "cell_type": "markdown",
   "metadata": {},
   "source": [
    "Here, we read the `dataset.json` file prepared in the `01-data` notebook previously."
   ]
  },
  {
   "cell_type": "code",
   "execution_count": 6,
   "metadata": {
    "ExecuteTime": {
     "end_time": "2024-05-02T22:12:20.936617800Z",
     "start_time": "2024-05-02T22:12:20.717350300Z"
    }
   },
   "outputs": [],
   "source": [
    "if os.path.isfile(os.path.join(project_dir, 'data_properties.json')):\n",
    "    with open(os.path.join(project_dir, 'data_properties.json')) as json_file:\n",
    "        data = json.load(json_file)\n",
    "        one_hot, data_type, foreground_weight, n_y, n_x = data['one_hot'], data['data_type'], int(data['foreground_weight']), int(data['n_y']), int(data['n_x'])"
   ]
  },
  {
   "cell_type": "markdown",
   "metadata": {
    "pycharm": {
     "name": "#%% md\n"
    }
   },
   "source": [
    "### Specify training dataset-related parameters"
   ]
  },
  {
   "cell_type": "markdown",
   "metadata": {},
   "source": [
    "Some hints: \n",
    "* The `train_size` attribute indicates the number of image-mask paired examples which the network would see in one complete epoch. Ideally this should be the number of `train` image crops. \n",
    "\n",
    "In the cell after this one, a `train_dataset_dict` dictionary is generated from the parameters specified here!"
   ]
  },
  {
   "cell_type": "code",
   "execution_count": 7,
   "metadata": {
    "pycharm": {
     "name": "#%%\n"
    },
    "ExecuteTime": {
     "end_time": "2024-05-02T22:12:20.936617800Z",
     "start_time": "2024-05-02T22:12:20.732495500Z"
    }
   },
   "outputs": [],
   "source": [
    "train_size = len(os.listdir(os.path.join(project_dir, 'crops', project_name, 'train', 'images')))\n",
    "train_batch_size = 16 "
   ]
  },
  {
   "cell_type": "markdown",
   "metadata": {
    "pycharm": {
     "name": "#%% md\n"
    }
   },
   "source": [
    "### Create the `train_dataset_dict` dictionary  "
   ]
  },
  {
   "cell_type": "code",
   "execution_count": 8,
   "metadata": {
    "pycharm": {
     "name": "#%%\n"
    },
    "ExecuteTime": {
     "end_time": "2024-05-02T22:12:20.937665Z",
     "start_time": "2024-05-02T22:12:20.747637200Z"
    }
   },
   "outputs": [
    {
     "name": "stdout",
     "output_type": "stream",
     "text": [
      "`train_dataset_dict` dictionary successfully created                 with: \n",
      " -- train images accessed from C:\\Users\\cryst\\Desktop\\Organoid-Segmentation-Web-App\\training\\Colon Organoid 5_2_2024\\crops\\Colon Organoid 5_2_2024\\train\\images, \n",
      " -- number of images per epoch equal to 821, \n",
      " -- batch size set at 16, \n"
     ]
    }
   ],
   "source": [
    "train_dataset_dict = create_dataset_dict(data_dir = os.path.join(project_dir, 'crops'),\n",
    "                                         project_name = project_name,  \n",
    "                                         center = center, \n",
    "                                         size = train_size, \n",
    "                                         batch_size = train_batch_size, \n",
    "                                         one_hot = one_hot,\n",
    "                                         type = 'train')"
   ]
  },
  {
   "cell_type": "markdown",
   "metadata": {
    "pycharm": {
     "name": "#%% md\n"
    }
   },
   "source": [
    "### Specify validation dataset-related parameters"
   ]
  },
  {
   "cell_type": "markdown",
   "metadata": {},
   "source": [
    "Some hints:\n",
    "* The size attribute indicates the number of image-mask paired examples which the network would see in one complete epoch. Here, it is recommended to set `val_size` equal to the total number of validation image crops. For example, for the `dsb-2018` dataset, we notice ~2600 validation crops.\n",
    "\n",
    "In the cell after this one, a `val_dataset_dict` dictionary is generated from the parameters specified here!\n",
    "\n"
   ]
  },
  {
   "cell_type": "code",
   "execution_count": 9,
   "metadata": {
    "pycharm": {
     "name": "#%%\n"
    },
    "ExecuteTime": {
     "end_time": "2024-05-02T22:12:20.937665Z",
     "start_time": "2024-05-02T22:12:20.761779400Z"
    }
   },
   "outputs": [],
   "source": [
    "val_size = len(os.listdir(os.path.join(project_dir, 'crops', project_name, 'val', 'images')))\n",
    "val_batch_size = 16"
   ]
  },
  {
   "cell_type": "markdown",
   "metadata": {
    "pycharm": {
     "name": "#%% md\n"
    }
   },
   "source": [
    "### Create the `val_dataset_dict` dictionary"
   ]
  },
  {
   "cell_type": "code",
   "execution_count": 10,
   "metadata": {
    "pycharm": {
     "name": "#%%\n"
    },
    "ExecuteTime": {
     "end_time": "2024-05-02T22:12:20.938668200Z",
     "start_time": "2024-05-02T22:12:20.777938Z"
    }
   },
   "outputs": [
    {
     "name": "stdout",
     "output_type": "stream",
     "text": [
      "`val_dataset_dict` dictionary successfully created                 with: \n",
      " -- val images accessed from C:\\Users\\cryst\\Desktop\\Organoid-Segmentation-Web-App\\training\\Colon Organoid 5_2_2024\\crops\\Colon Organoid 5_2_2024\\val\\images, \n",
      " -- number of images per epoch equal to 87, \n",
      " -- batch size set at 16, \n"
     ]
    }
   ],
   "source": [
    "val_dataset_dict = create_dataset_dict(data_dir = os.path.join(project_dir, 'crops'),\n",
    "                                       project_name = project_name, \n",
    "                                       center = center, \n",
    "                                       size = val_size, \n",
    "                                       batch_size = val_batch_size, \n",
    "                                       one_hot = one_hot,\n",
    "                                       type ='val',)"
   ]
  },
  {
   "cell_type": "markdown",
   "metadata": {
    "pycharm": {
     "name": "#%% md\n"
    }
   },
   "source": [
    "### Specify model-related parameters"
   ]
  },
  {
   "cell_type": "markdown",
   "metadata": {},
   "source": [
    "Some hints:\n",
    "* Set the `input_channels` attribute equal to the number of channels in the input images. \n",
    "\n",
    "In the cell after this one, a `model_dataset_dict` dictionary is generated from the parameters specified here!"
   ]
  },
  {
   "cell_type": "code",
   "execution_count": 11,
   "metadata": {
    "pycharm": {
     "name": "#%%\n"
    },
    "ExecuteTime": {
     "end_time": "2024-05-02T22:12:20.938668200Z",
     "start_time": "2024-05-02T22:12:20.793089Z"
    }
   },
   "outputs": [],
   "source": [
    "input_channels = 1"
   ]
  },
  {
   "cell_type": "markdown",
   "metadata": {
    "pycharm": {
     "name": "#%% md\n"
    }
   },
   "source": [
    "### Create the `model_dict` dictionary"
   ]
  },
  {
   "cell_type": "code",
   "execution_count": 12,
   "metadata": {
    "pycharm": {
     "name": "#%%\n"
    },
    "ExecuteTime": {
     "end_time": "2024-05-02T22:12:20.938668200Z",
     "start_time": "2024-05-02T22:12:20.808236400Z"
    }
   },
   "outputs": [
    {
     "name": "stdout",
     "output_type": "stream",
     "text": [
      "`model_dict` dictionary successfully created                 with: \n",
      " -- num of classes equal to 1, \n",
      " -- input channels                 equal to [4, 1], \n",
      " -- name equal to branched_erfnet\n"
     ]
    }
   ],
   "source": [
    "model_dict = create_model_dict(input_channels = input_channels)"
   ]
  },
  {
   "cell_type": "markdown",
   "metadata": {
    "pycharm": {
     "name": "#%% md\n"
    }
   },
   "source": [
    "### Create the `loss_dict` dictionary"
   ]
  },
  {
   "cell_type": "code",
   "execution_count": 13,
   "metadata": {
    "pycharm": {
     "name": "#%%\n"
    },
    "ExecuteTime": {
     "end_time": "2024-05-02T22:12:20.939666400Z",
     "start_time": "2024-05-02T22:12:20.823388700Z"
    }
   },
   "outputs": [
    {
     "name": "stdout",
     "output_type": "stream",
     "text": [
      "`loss_dict` dictionary successfully created                 with: \n",
      " -- foreground weight equal to 2.000, \n",
      " -- w_inst                 equal to 1, \n",
      " -- w_var                 equal to 10, \n",
      " -- w_seed equal to 5\n"
     ]
    }
   ],
   "source": [
    "loss_dict = create_loss_dict(foreground_weight=2, w_seed=5)"
   ]
  },
  {
   "cell_type": "markdown",
   "metadata": {
    "pycharm": {
     "name": "#%% md\n"
    }
   },
   "source": [
    "### Specify additional parameters "
   ]
  },
  {
   "cell_type": "markdown",
   "metadata": {},
   "source": [
    "Some hints:\n",
    "* The `n_epochs` attribute determines how long the training should proceed. In general for reasonable results, you should atleast train for longer than 50 epochs.\n",
    "* The `save_dir` attribute identifies the location where the checkpoints and loss curve details are saved. \n",
    "* If one wishes to **resume training** from a previous checkpoint, they could point `resume_path` attribute appropriately. For example, one could set `resume_path = './experiment/dsb-2018-demo/checkpoint.pth'` to resume training from the last checkpoint. \n",
    "\n",
    "In the cell after this one, a `configs` dictionary is generated from the parameters specified here!\n",
    "<a id='resume'></a>"
   ]
  },
  {
   "cell_type": "code",
   "execution_count": 14,
   "metadata": {
    "pycharm": {
     "name": "#%%\n"
    },
    "ExecuteTime": {
     "end_time": "2024-05-02T22:12:20.939666400Z",
     "start_time": "2024-05-02T22:12:20.838550Z"
    }
   },
   "outputs": [],
   "source": [
    "n_epochs = 200\n",
    "save_dir = os.path.join(project_dir, \"model\")\n",
    "resume_path  = None"
   ]
  },
  {
   "cell_type": "markdown",
   "metadata": {},
   "source": [
    "### Create the  `configs` dictionary "
   ]
  },
  {
   "cell_type": "code",
   "execution_count": 15,
   "metadata": {
    "ExecuteTime": {
     "end_time": "2024-05-02T22:12:20.951331100Z",
     "start_time": "2024-05-02T22:12:20.853695400Z"
    }
   },
   "outputs": [
    {
     "name": "stdout",
     "output_type": "stream",
     "text": [
      "`configs` dictionary successfully created with: \n",
      " -- n_epochs equal to 200, \n",
      " -- save_dir equal to C:\\Users\\cryst\\Desktop\\Organoid-Segmentation-Web-App\\training\\Colon Organoid 5_2_2024\\model, \n",
      " -- n_z equal to None, \n",
      " -- n_y equal to 1392, \n",
      " -- n_x equal to 1392, \n"
     ]
    }
   ],
   "source": [
    "configs = create_configs(n_epochs = n_epochs,\n",
    "                         one_hot = one_hot,\n",
    "                         resume_path = resume_path, \n",
    "                         save_dir = save_dir, \n",
    "                         n_y = n_y, \n",
    "                         n_x = n_x,)"
   ]
  },
  {
   "cell_type": "markdown",
   "metadata": {},
   "source": [
    "### Begin training!"
   ]
  },
  {
   "cell_type": "markdown",
   "metadata": {},
   "source": [
    "Executing the next cell would begin the training. "
   ]
  },
  {
   "cell_type": "code",
   "execution_count": 16,
   "metadata": {
    "ExecuteTime": {
     "end_time": "2024-05-03T00:39:08.820551700Z",
     "start_time": "2024-05-02T22:12:20.869372100Z"
    }
   },
   "outputs": [
    {
     "name": "stdout",
     "output_type": "stream",
     "text": [
      "2-D `train` dataloader created! Accessing data from C:\\Users\\cryst\\Desktop\\Organoid-Segmentation-Web-App\\training\\Colon Organoid 5_2_2024\\crops\\Colon Organoid 5_2_2024/train/\n",
      "test\n",
      "Number of images in `train` directory is 821\n",
      "Number of instances in `train` directory is 821\n",
      "Number of center images in `train` directory is 821\n",
      "*************************\n",
      "2-D `val` dataloader created! Accessing data from C:\\Users\\cryst\\Desktop\\Organoid-Segmentation-Web-App\\training\\Colon Organoid 5_2_2024\\crops\\Colon Organoid 5_2_2024/val/\n",
      "test\n",
      "Number of images in `val` directory is 87\n",
      "Number of instances in `val` directory is 87\n",
      "Number of center images in `val` directory is 87\n",
      "*************************\n",
      "Creating Branched Erfnet with [4, 1] outputs\n",
      "Initialize last layer with size:  torch.Size([16, 4, 2, 2])\n",
      "*************************\n",
      "Created spatial emb loss function with:                     n_sigma: 2, foreground_weight: 2\n",
      "*************************\n",
      "Created logger with keys:  ('train', 'val', 'iou')\n",
      "Starting epoch 0\n",
      "learning rate: 0.0005\n"
     ]
    },
    {
     "name": "stderr",
     "output_type": "stream",
     "text": [
      "100%|██████████| 51/51 [00:42<00:00,  1.19it/s]\n",
      "100%|██████████| 6/6 [00:05<00:00,  1.08it/s]\n"
     ]
    },
    {
     "name": "stdout",
     "output_type": "stream",
     "text": [
      "===> train loss: 2.16\n",
      "===> val loss: 1.91, val iou: 0.46\n",
      "=> saving checkpoint\n",
      "Starting epoch 1\n",
      "learning rate: 0.0004977494364660346\n"
     ]
    },
    {
     "name": "stderr",
     "output_type": "stream",
     "text": [
      "100%|██████████| 51/51 [00:40<00:00,  1.26it/s]\n",
      "100%|██████████| 6/6 [00:04<00:00,  1.26it/s]\n"
     ]
    },
    {
     "name": "stdout",
     "output_type": "stream",
     "text": [
      "===> train loss: 1.54\n",
      "===> val loss: 1.38, val iou: 0.57\n",
      "=> saving checkpoint\n",
      "Starting epoch 2\n",
      "learning rate: 0.0004954977417064171\n"
     ]
    },
    {
     "name": "stderr",
     "output_type": "stream",
     "text": [
      "100%|██████████| 51/51 [00:39<00:00,  1.30it/s]\n",
      "100%|██████████| 6/6 [00:04<00:00,  1.22it/s]\n"
     ]
    },
    {
     "name": "stdout",
     "output_type": "stream",
     "text": [
      "===> train loss: 1.05\n",
      "===> val loss: 1.05, val iou: 0.65\n",
      "=> saving checkpoint\n",
      "Starting epoch 3\n",
      "learning rate: 0.0004932449094349202\n"
     ]
    },
    {
     "name": "stderr",
     "output_type": "stream",
     "text": [
      "100%|██████████| 51/51 [00:38<00:00,  1.32it/s]\n",
      "100%|██████████| 6/6 [00:04<00:00,  1.23it/s]\n"
     ]
    },
    {
     "name": "stdout",
     "output_type": "stream",
     "text": [
      "===> train loss: 0.81\n",
      "===> val loss: 0.95, val iou: 0.66\n",
      "=> saving checkpoint\n",
      "Starting epoch 4\n",
      "learning rate: 0.0004909909332982877\n"
     ]
    },
    {
     "name": "stderr",
     "output_type": "stream",
     "text": [
      "100%|██████████| 51/51 [00:39<00:00,  1.30it/s]\n",
      "100%|██████████| 6/6 [00:04<00:00,  1.24it/s]\n"
     ]
    },
    {
     "name": "stdout",
     "output_type": "stream",
     "text": [
      "===> train loss: 0.73\n",
      "===> val loss: 0.91, val iou: 0.67\n",
      "=> saving checkpoint\n",
      "Starting epoch 5\n",
      "learning rate: 0.0004887358068751748\n"
     ]
    },
    {
     "name": "stderr",
     "output_type": "stream",
     "text": [
      "100%|██████████| 51/51 [00:38<00:00,  1.32it/s]\n",
      "100%|██████████| 6/6 [00:04<00:00,  1.26it/s]\n"
     ]
    },
    {
     "name": "stdout",
     "output_type": "stream",
     "text": [
      "===> train loss: 0.67\n",
      "===> val loss: 0.77, val iou: 0.69\n",
      "=> saving checkpoint\n",
      "Starting epoch 6\n",
      "learning rate: 0.0004864795236750653\n"
     ]
    },
    {
     "name": "stderr",
     "output_type": "stream",
     "text": [
      "100%|██████████| 51/51 [00:39<00:00,  1.30it/s]\n",
      "100%|██████████| 6/6 [00:04<00:00,  1.26it/s]\n"
     ]
    },
    {
     "name": "stdout",
     "output_type": "stream",
     "text": [
      "===> train loss: 0.62\n",
      "===> val loss: 0.80, val iou: 0.69\n",
      "=> saving checkpoint\n",
      "Starting epoch 7\n",
      "learning rate: 0.00048422207713716544\n"
     ]
    },
    {
     "name": "stderr",
     "output_type": "stream",
     "text": [
      "100%|██████████| 51/51 [00:39<00:00,  1.30it/s]\n",
      "100%|██████████| 6/6 [00:04<00:00,  1.25it/s]\n"
     ]
    },
    {
     "name": "stdout",
     "output_type": "stream",
     "text": [
      "===> train loss: 0.61\n",
      "===> val loss: 0.83, val iou: 0.66\n",
      "=> saving checkpoint\n",
      "Starting epoch 8\n",
      "learning rate: 0.00048196346062927547\n"
     ]
    },
    {
     "name": "stderr",
     "output_type": "stream",
     "text": [
      "100%|██████████| 51/51 [00:38<00:00,  1.32it/s]\n",
      "100%|██████████| 6/6 [00:04<00:00,  1.23it/s]\n"
     ]
    },
    {
     "name": "stdout",
     "output_type": "stream",
     "text": [
      "===> train loss: 0.57\n",
      "===> val loss: 0.74, val iou: 0.71\n",
      "=> saving checkpoint\n",
      "Starting epoch 9\n",
      "learning rate: 0.00047970366744663594\n"
     ]
    },
    {
     "name": "stderr",
     "output_type": "stream",
     "text": [
      "100%|██████████| 51/51 [00:38<00:00,  1.31it/s]\n",
      "100%|██████████| 6/6 [00:04<00:00,  1.25it/s]\n"
     ]
    },
    {
     "name": "stdout",
     "output_type": "stream",
     "text": [
      "===> train loss: 0.57\n",
      "===> val loss: 0.81, val iou: 0.68\n",
      "=> saving checkpoint\n",
      "Starting epoch 10\n",
      "learning rate: 0.00047744269081074987\n"
     ]
    },
    {
     "name": "stderr",
     "output_type": "stream",
     "text": [
      "100%|██████████| 51/51 [00:38<00:00,  1.31it/s]\n",
      "100%|██████████| 6/6 [00:04<00:00,  1.25it/s]\n"
     ]
    },
    {
     "name": "stdout",
     "output_type": "stream",
     "text": [
      "===> train loss: 0.58\n",
      "===> val loss: 0.75, val iou: 0.68\n",
      "=> saving checkpoint\n",
      "Starting epoch 11\n",
      "learning rate: 0.0004751805238681794\n"
     ]
    },
    {
     "name": "stderr",
     "output_type": "stream",
     "text": [
      "100%|██████████| 51/51 [00:39<00:00,  1.30it/s]\n",
      "100%|██████████| 6/6 [00:04<00:00,  1.28it/s]\n"
     ]
    },
    {
     "name": "stdout",
     "output_type": "stream",
     "text": [
      "===> train loss: 0.55\n",
      "===> val loss: 0.67, val iou: 0.71\n",
      "=> saving checkpoint\n",
      "Starting epoch 12\n",
      "learning rate: 0.000472917159689316\n"
     ]
    },
    {
     "name": "stderr",
     "output_type": "stream",
     "text": [
      "100%|██████████| 51/51 [00:39<00:00,  1.31it/s]\n",
      "100%|██████████| 6/6 [00:04<00:00,  1.27it/s]\n"
     ]
    },
    {
     "name": "stdout",
     "output_type": "stream",
     "text": [
      "===> train loss: 0.54\n",
      "===> val loss: 0.69, val iou: 0.73\n",
      "=> saving checkpoint\n",
      "Starting epoch 13\n",
      "learning rate: 0.00047065259126712457\n"
     ]
    },
    {
     "name": "stderr",
     "output_type": "stream",
     "text": [
      "100%|██████████| 51/51 [00:39<00:00,  1.31it/s]\n",
      "100%|██████████| 6/6 [00:04<00:00,  1.26it/s]\n"
     ]
    },
    {
     "name": "stdout",
     "output_type": "stream",
     "text": [
      "===> train loss: 0.56\n",
      "===> val loss: 0.72, val iou: 0.68\n",
      "=> saving checkpoint\n",
      "Starting epoch 14\n",
      "learning rate: 0.00046838681151585874\n"
     ]
    },
    {
     "name": "stderr",
     "output_type": "stream",
     "text": [
      "100%|██████████| 51/51 [00:38<00:00,  1.31it/s]\n",
      "100%|██████████| 6/6 [00:04<00:00,  1.24it/s]\n"
     ]
    },
    {
     "name": "stdout",
     "output_type": "stream",
     "text": [
      "===> train loss: 0.59\n",
      "===> val loss: 0.81, val iou: 0.67\n",
      "=> saving checkpoint\n",
      "Starting epoch 15\n",
      "learning rate: 0.0004661198132697498\n"
     ]
    },
    {
     "name": "stderr",
     "output_type": "stream",
     "text": [
      "100%|██████████| 51/51 [00:39<00:00,  1.31it/s]\n",
      "100%|██████████| 6/6 [00:04<00:00,  1.24it/s]\n"
     ]
    },
    {
     "name": "stdout",
     "output_type": "stream",
     "text": [
      "===> train loss: 0.55\n",
      "===> val loss: 0.82, val iou: 0.65\n",
      "=> saving checkpoint\n",
      "Starting epoch 16\n",
      "learning rate: 0.0004638515892816641\n"
     ]
    },
    {
     "name": "stderr",
     "output_type": "stream",
     "text": [
      "100%|██████████| 51/51 [00:39<00:00,  1.30it/s]\n",
      "100%|██████████| 6/6 [00:04<00:00,  1.24it/s]\n"
     ]
    },
    {
     "name": "stdout",
     "output_type": "stream",
     "text": [
      "===> train loss: 0.54\n",
      "===> val loss: 0.68, val iou: 0.69\n",
      "=> saving checkpoint\n",
      "Starting epoch 17\n",
      "learning rate: 0.00046158213222173284\n"
     ]
    },
    {
     "name": "stderr",
     "output_type": "stream",
     "text": [
      "100%|██████████| 51/51 [00:38<00:00,  1.31it/s]\n",
      "100%|██████████| 6/6 [00:04<00:00,  1.25it/s]\n"
     ]
    },
    {
     "name": "stdout",
     "output_type": "stream",
     "text": [
      "===> train loss: 0.52\n",
      "===> val loss: 0.66, val iou: 0.71\n",
      "=> saving checkpoint\n",
      "Starting epoch 18\n",
      "learning rate: 0.0004593114346759497\n"
     ]
    },
    {
     "name": "stderr",
     "output_type": "stream",
     "text": [
      "100%|██████████| 51/51 [00:38<00:00,  1.31it/s]\n",
      "100%|██████████| 6/6 [00:04<00:00,  1.29it/s]\n"
     ]
    },
    {
     "name": "stdout",
     "output_type": "stream",
     "text": [
      "===> train loss: 0.52\n",
      "===> val loss: 0.73, val iou: 0.67\n",
      "=> saving checkpoint\n",
      "Starting epoch 19\n",
      "learning rate: 0.00045703948914473726\n"
     ]
    },
    {
     "name": "stderr",
     "output_type": "stream",
     "text": [
      "100%|██████████| 51/51 [00:38<00:00,  1.31it/s]\n",
      "100%|██████████| 6/6 [00:04<00:00,  1.24it/s]\n"
     ]
    },
    {
     "name": "stdout",
     "output_type": "stream",
     "text": [
      "===> train loss: 0.52\n",
      "===> val loss: 0.74, val iou: 0.69\n",
      "=> saving checkpoint\n",
      "Starting epoch 20\n",
      "learning rate: 0.00045476628804148113\n"
     ]
    },
    {
     "name": "stderr",
     "output_type": "stream",
     "text": [
      "100%|██████████| 51/51 [00:38<00:00,  1.31it/s]\n",
      "100%|██████████| 6/6 [00:04<00:00,  1.24it/s]\n"
     ]
    },
    {
     "name": "stdout",
     "output_type": "stream",
     "text": [
      "===> train loss: 0.51\n",
      "===> val loss: 0.70, val iou: 0.70\n",
      "=> saving checkpoint\n",
      "Starting epoch 21\n",
      "learning rate: 0.00045249182369103055\n"
     ]
    },
    {
     "name": "stderr",
     "output_type": "stream",
     "text": [
      "100%|██████████| 51/51 [00:38<00:00,  1.31it/s]\n",
      "100%|██████████| 6/6 [00:04<00:00,  1.24it/s]\n"
     ]
    },
    {
     "name": "stdout",
     "output_type": "stream",
     "text": [
      "===> train loss: 0.51\n",
      "===> val loss: 0.75, val iou: 0.68\n",
      "=> saving checkpoint\n",
      "Starting epoch 22\n",
      "learning rate: 0.00045021608832816447\n"
     ]
    },
    {
     "name": "stderr",
     "output_type": "stream",
     "text": [
      "100%|██████████| 51/51 [00:38<00:00,  1.32it/s]\n",
      "100%|██████████| 6/6 [00:04<00:00,  1.26it/s]\n"
     ]
    },
    {
     "name": "stdout",
     "output_type": "stream",
     "text": [
      "===> train loss: 0.50\n",
      "===> val loss: 0.76, val iou: 0.69\n",
      "=> saving checkpoint\n",
      "Starting epoch 23\n",
      "learning rate: 0.0004479390740960227\n"
     ]
    },
    {
     "name": "stderr",
     "output_type": "stream",
     "text": [
      "100%|██████████| 51/51 [00:38<00:00,  1.32it/s]\n",
      "100%|██████████| 6/6 [00:04<00:00,  1.24it/s]\n"
     ]
    },
    {
     "name": "stdout",
     "output_type": "stream",
     "text": [
      "===> train loss: 0.49\n",
      "===> val loss: 0.68, val iou: 0.72\n",
      "=> saving checkpoint\n",
      "Starting epoch 24\n",
      "learning rate: 0.00044566077304449995\n"
     ]
    },
    {
     "name": "stderr",
     "output_type": "stream",
     "text": [
      "100%|██████████| 51/51 [00:38<00:00,  1.33it/s]\n",
      "100%|██████████| 6/6 [00:05<00:00,  1.20it/s]\n"
     ]
    },
    {
     "name": "stdout",
     "output_type": "stream",
     "text": [
      "===> train loss: 0.49\n",
      "===> val loss: 0.77, val iou: 0.68\n",
      "=> saving checkpoint\n",
      "Starting epoch 25\n",
      "learning rate: 0.00044338117712860363\n"
     ]
    },
    {
     "name": "stderr",
     "output_type": "stream",
     "text": [
      "100%|██████████| 51/51 [00:39<00:00,  1.30it/s]\n",
      "100%|██████████| 6/6 [00:04<00:00,  1.25it/s]\n"
     ]
    },
    {
     "name": "stdout",
     "output_type": "stream",
     "text": [
      "===> train loss: 0.48\n",
      "===> val loss: 0.74, val iou: 0.68\n",
      "=> saving checkpoint\n",
      "Starting epoch 26\n",
      "learning rate: 0.00044110027820677195\n"
     ]
    },
    {
     "name": "stderr",
     "output_type": "stream",
     "text": [
      "100%|██████████| 51/51 [00:38<00:00,  1.31it/s]\n",
      "100%|██████████| 6/6 [00:04<00:00,  1.24it/s]\n"
     ]
    },
    {
     "name": "stdout",
     "output_type": "stream",
     "text": [
      "===> train loss: 0.47\n",
      "===> val loss: 0.77, val iou: 0.69\n",
      "=> saving checkpoint\n",
      "Starting epoch 27\n",
      "learning rate: 0.000438818068039153\n"
     ]
    },
    {
     "name": "stderr",
     "output_type": "stream",
     "text": [
      "100%|██████████| 51/51 [00:38<00:00,  1.32it/s]\n",
      "100%|██████████| 6/6 [00:04<00:00,  1.25it/s]\n"
     ]
    },
    {
     "name": "stdout",
     "output_type": "stream",
     "text": [
      "===> train loss: 0.48\n",
      "===> val loss: 0.67, val iou: 0.70\n",
      "=> saving checkpoint\n",
      "Starting epoch 28\n",
      "learning rate: 0.000436534538285843\n"
     ]
    },
    {
     "name": "stderr",
     "output_type": "stream",
     "text": [
      "100%|██████████| 51/51 [00:38<00:00,  1.31it/s]\n",
      "100%|██████████| 6/6 [00:04<00:00,  1.25it/s]\n"
     ]
    },
    {
     "name": "stdout",
     "output_type": "stream",
     "text": [
      "===> train loss: 0.47\n",
      "===> val loss: 0.75, val iou: 0.70\n",
      "=> saving checkpoint\n",
      "Starting epoch 29\n",
      "learning rate: 0.00043424968050508256\n"
     ]
    },
    {
     "name": "stderr",
     "output_type": "stream",
     "text": [
      "100%|██████████| 51/51 [00:38<00:00,  1.31it/s]\n",
      "100%|██████████| 6/6 [00:04<00:00,  1.26it/s]\n"
     ]
    },
    {
     "name": "stdout",
     "output_type": "stream",
     "text": [
      "===> train loss: 0.48\n",
      "===> val loss: 0.72, val iou: 0.69\n",
      "=> saving checkpoint\n",
      "Starting epoch 30\n",
      "learning rate: 0.00043196348615140955\n"
     ]
    },
    {
     "name": "stderr",
     "output_type": "stream",
     "text": [
      "100%|██████████| 51/51 [00:38<00:00,  1.31it/s]\n",
      "100%|██████████| 6/6 [00:04<00:00,  1.25it/s]\n"
     ]
    },
    {
     "name": "stdout",
     "output_type": "stream",
     "text": [
      "===> train loss: 0.47\n",
      "===> val loss: 0.71, val iou: 0.69\n",
      "=> saving checkpoint\n",
      "Starting epoch 31\n",
      "learning rate: 0.0004296759465737673\n"
     ]
    },
    {
     "name": "stderr",
     "output_type": "stream",
     "text": [
      "100%|██████████| 51/51 [00:39<00:00,  1.30it/s]\n",
      "100%|██████████| 6/6 [00:04<00:00,  1.25it/s]\n"
     ]
    },
    {
     "name": "stdout",
     "output_type": "stream",
     "text": [
      "===> train loss: 0.47\n",
      "===> val loss: 0.68, val iou: 0.69\n",
      "=> saving checkpoint\n",
      "Starting epoch 32\n",
      "learning rate: 0.00042738705301356716\n"
     ]
    },
    {
     "name": "stderr",
     "output_type": "stream",
     "text": [
      "100%|██████████| 51/51 [00:38<00:00,  1.32it/s]\n",
      "100%|██████████| 6/6 [00:04<00:00,  1.23it/s]\n"
     ]
    },
    {
     "name": "stdout",
     "output_type": "stream",
     "text": [
      "===> train loss: 0.47\n",
      "===> val loss: 0.71, val iou: 0.69\n",
      "=> saving checkpoint\n",
      "Starting epoch 33\n",
      "learning rate: 0.0004250967966027037\n"
     ]
    },
    {
     "name": "stderr",
     "output_type": "stream",
     "text": [
      "100%|██████████| 51/51 [00:39<00:00,  1.30it/s]\n",
      "100%|██████████| 6/6 [00:04<00:00,  1.23it/s]\n"
     ]
    },
    {
     "name": "stdout",
     "output_type": "stream",
     "text": [
      "===> train loss: 0.48\n",
      "===> val loss: 0.70, val iou: 0.69\n",
      "=> saving checkpoint\n",
      "Starting epoch 34\n",
      "learning rate: 0.00042280516836152096\n"
     ]
    },
    {
     "name": "stderr",
     "output_type": "stream",
     "text": [
      "100%|██████████| 51/51 [00:39<00:00,  1.30it/s]\n",
      "100%|██████████| 6/6 [00:04<00:00,  1.24it/s]\n"
     ]
    },
    {
     "name": "stdout",
     "output_type": "stream",
     "text": [
      "===> train loss: 0.46\n",
      "===> val loss: 0.73, val iou: 0.69\n",
      "=> saving checkpoint\n",
      "Starting epoch 35\n",
      "learning rate: 0.00042051215919672877\n"
     ]
    },
    {
     "name": "stderr",
     "output_type": "stream",
     "text": [
      "100%|██████████| 51/51 [00:39<00:00,  1.31it/s]\n",
      "100%|██████████| 6/6 [00:04<00:00,  1.24it/s]\n"
     ]
    },
    {
     "name": "stdout",
     "output_type": "stream",
     "text": [
      "===> train loss: 0.45\n",
      "===> val loss: 0.66, val iou: 0.70\n",
      "=> saving checkpoint\n",
      "Starting epoch 36\n",
      "learning rate: 0.00041821775989926696\n"
     ]
    },
    {
     "name": "stderr",
     "output_type": "stream",
     "text": [
      "100%|██████████| 51/51 [00:38<00:00,  1.31it/s]\n",
      "100%|██████████| 6/6 [00:04<00:00,  1.26it/s]\n"
     ]
    },
    {
     "name": "stdout",
     "output_type": "stream",
     "text": [
      "===> train loss: 0.44\n",
      "===> val loss: 0.68, val iou: 0.70\n",
      "=> saving checkpoint\n",
      "Starting epoch 37\n",
      "learning rate: 0.00041592196114211634\n"
     ]
    },
    {
     "name": "stderr",
     "output_type": "stream",
     "text": [
      "100%|██████████| 51/51 [00:38<00:00,  1.31it/s]\n",
      "100%|██████████| 6/6 [00:04<00:00,  1.24it/s]\n"
     ]
    },
    {
     "name": "stdout",
     "output_type": "stream",
     "text": [
      "===> train loss: 0.46\n",
      "===> val loss: 0.68, val iou: 0.72\n",
      "=> saving checkpoint\n",
      "Starting epoch 38\n",
      "learning rate: 0.0004136247534780547\n"
     ]
    },
    {
     "name": "stderr",
     "output_type": "stream",
     "text": [
      "100%|██████████| 51/51 [00:38<00:00,  1.31it/s]\n",
      "100%|██████████| 6/6 [00:04<00:00,  1.22it/s]\n"
     ]
    },
    {
     "name": "stdout",
     "output_type": "stream",
     "text": [
      "===> train loss: 0.44\n",
      "===> val loss: 0.69, val iou: 0.71\n",
      "=> saving checkpoint\n",
      "Starting epoch 39\n",
      "learning rate: 0.00041132612733735566\n"
     ]
    },
    {
     "name": "stderr",
     "output_type": "stream",
     "text": [
      "100%|██████████| 51/51 [00:39<00:00,  1.30it/s]\n",
      "100%|██████████| 6/6 [00:04<00:00,  1.24it/s]\n"
     ]
    },
    {
     "name": "stdout",
     "output_type": "stream",
     "text": [
      "===> train loss: 0.45\n",
      "===> val loss: 0.64, val iou: 0.71\n",
      "=> saving checkpoint\n",
      "Starting epoch 40\n",
      "learning rate: 0.00040902607302542923\n"
     ]
    },
    {
     "name": "stderr",
     "output_type": "stream",
     "text": [
      "100%|██████████| 51/51 [00:39<00:00,  1.30it/s]\n",
      "100%|██████████| 6/6 [00:04<00:00,  1.25it/s]\n"
     ]
    },
    {
     "name": "stdout",
     "output_type": "stream",
     "text": [
      "===> train loss: 0.46\n",
      "===> val loss: 0.70, val iou: 0.71\n",
      "=> saving checkpoint\n",
      "Starting epoch 41\n",
      "learning rate: 0.00040672458072040163\n"
     ]
    },
    {
     "name": "stderr",
     "output_type": "stream",
     "text": [
      "100%|██████████| 51/51 [00:38<00:00,  1.31it/s]\n",
      "100%|██████████| 6/6 [00:04<00:00,  1.26it/s]\n"
     ]
    },
    {
     "name": "stdout",
     "output_type": "stream",
     "text": [
      "===> train loss: 0.45\n",
      "===> val loss: 0.72, val iou: 0.70\n",
      "=> saving checkpoint\n",
      "Starting epoch 42\n",
      "learning rate: 0.00040442164047063304\n"
     ]
    },
    {
     "name": "stderr",
     "output_type": "stream",
     "text": [
      "100%|██████████| 51/51 [00:39<00:00,  1.30it/s]\n",
      "100%|██████████| 6/6 [00:04<00:00,  1.26it/s]\n"
     ]
    },
    {
     "name": "stdout",
     "output_type": "stream",
     "text": [
      "===> train loss: 0.45\n",
      "===> val loss: 0.70, val iou: 0.71\n",
      "=> saving checkpoint\n",
      "Starting epoch 43\n",
      "learning rate: 0.0004021172421921706\n"
     ]
    },
    {
     "name": "stderr",
     "output_type": "stream",
     "text": [
      "100%|██████████| 51/51 [00:39<00:00,  1.30it/s]\n",
      "100%|██████████| 6/6 [00:04<00:00,  1.26it/s]\n"
     ]
    },
    {
     "name": "stdout",
     "output_type": "stream",
     "text": [
      "===> train loss: 0.45\n",
      "===> val loss: 0.77, val iou: 0.66\n",
      "=> saving checkpoint\n",
      "Starting epoch 44\n",
      "learning rate: 0.0003998113756661346\n"
     ]
    },
    {
     "name": "stderr",
     "output_type": "stream",
     "text": [
      "100%|██████████| 51/51 [00:39<00:00,  1.30it/s]\n",
      "100%|██████████| 6/6 [00:04<00:00,  1.26it/s]\n"
     ]
    },
    {
     "name": "stdout",
     "output_type": "stream",
     "text": [
      "===> train loss: 0.44\n",
      "===> val loss: 0.73, val iou: 0.68\n",
      "=> saving checkpoint\n",
      "Starting epoch 45\n",
      "learning rate: 0.000397504030536037\n"
     ]
    },
    {
     "name": "stderr",
     "output_type": "stream",
     "text": [
      "100%|██████████| 51/51 [00:39<00:00,  1.30it/s]\n",
      "100%|██████████| 6/6 [00:04<00:00,  1.23it/s]\n"
     ]
    },
    {
     "name": "stdout",
     "output_type": "stream",
     "text": [
      "===> train loss: 0.44\n",
      "===> val loss: 0.70, val iou: 0.68\n",
      "=> saving checkpoint\n",
      "Starting epoch 46\n",
      "learning rate: 0.0003951951963050278\n"
     ]
    },
    {
     "name": "stderr",
     "output_type": "stream",
     "text": [
      "100%|██████████| 51/51 [00:38<00:00,  1.31it/s]\n",
      "100%|██████████| 6/6 [00:04<00:00,  1.24it/s]\n"
     ]
    },
    {
     "name": "stdout",
     "output_type": "stream",
     "text": [
      "===> train loss: 0.45\n",
      "===> val loss: 0.70, val iou: 0.72\n",
      "=> saving checkpoint\n",
      "Starting epoch 47\n",
      "learning rate: 0.00039288486233306853\n"
     ]
    },
    {
     "name": "stderr",
     "output_type": "stream",
     "text": [
      "100%|██████████| 51/51 [00:38<00:00,  1.32it/s]\n",
      "100%|██████████| 6/6 [00:04<00:00,  1.23it/s]\n"
     ]
    },
    {
     "name": "stdout",
     "output_type": "stream",
     "text": [
      "===> train loss: 0.43\n",
      "===> val loss: 0.67, val iou: 0.72\n",
      "=> saving checkpoint\n",
      "Starting epoch 48\n",
      "learning rate: 0.0003905730178340304\n"
     ]
    },
    {
     "name": "stderr",
     "output_type": "stream",
     "text": [
      "100%|██████████| 51/51 [00:38<00:00,  1.31it/s]\n",
      "100%|██████████| 6/6 [00:04<00:00,  1.25it/s]\n"
     ]
    },
    {
     "name": "stdout",
     "output_type": "stream",
     "text": [
      "===> train loss: 0.43\n",
      "===> val loss: 0.65, val iou: 0.70\n",
      "=> saving checkpoint\n",
      "Starting epoch 49\n",
      "learning rate: 0.0003882596518727134\n"
     ]
    },
    {
     "name": "stderr",
     "output_type": "stream",
     "text": [
      "100%|██████████| 51/51 [00:38<00:00,  1.31it/s]\n",
      "100%|██████████| 6/6 [00:04<00:00,  1.25it/s]\n"
     ]
    },
    {
     "name": "stdout",
     "output_type": "stream",
     "text": [
      "===> train loss: 0.44\n",
      "===> val loss: 0.70, val iou: 0.68\n",
      "=> saving checkpoint\n",
      "Starting epoch 50\n",
      "learning rate: 0.00038594475336178527\n"
     ]
    },
    {
     "name": "stderr",
     "output_type": "stream",
     "text": [
      "100%|██████████| 51/51 [00:39<00:00,  1.30it/s]\n",
      "100%|██████████| 6/6 [00:04<00:00,  1.25it/s]\n"
     ]
    },
    {
     "name": "stdout",
     "output_type": "stream",
     "text": [
      "===> train loss: 0.43\n",
      "===> val loss: 0.72, val iou: 0.69\n",
      "=> saving checkpoint\n",
      "Starting epoch 51\n",
      "learning rate: 0.0003836283110586354\n"
     ]
    },
    {
     "name": "stderr",
     "output_type": "stream",
     "text": [
      "100%|██████████| 51/51 [00:38<00:00,  1.32it/s]\n",
      "100%|██████████| 6/6 [00:04<00:00,  1.24it/s]\n"
     ]
    },
    {
     "name": "stdout",
     "output_type": "stream",
     "text": [
      "===> train loss: 0.43\n",
      "===> val loss: 0.74, val iou: 0.68\n",
      "=> saving checkpoint\n",
      "Starting epoch 52\n",
      "learning rate: 0.0003813103135621442\n"
     ]
    },
    {
     "name": "stderr",
     "output_type": "stream",
     "text": [
      "100%|██████████| 51/51 [00:39<00:00,  1.30it/s]\n",
      "100%|██████████| 6/6 [00:04<00:00,  1.26it/s]\n"
     ]
    },
    {
     "name": "stdout",
     "output_type": "stream",
     "text": [
      "===> train loss: 0.44\n",
      "===> val loss: 0.67, val iou: 0.71\n",
      "=> saving checkpoint\n",
      "Starting epoch 53\n",
      "learning rate: 0.0003789907493093607\n"
     ]
    },
    {
     "name": "stderr",
     "output_type": "stream",
     "text": [
      "100%|██████████| 51/51 [00:38<00:00,  1.32it/s]\n",
      "100%|██████████| 6/6 [00:04<00:00,  1.22it/s]\n"
     ]
    },
    {
     "name": "stdout",
     "output_type": "stream",
     "text": [
      "===> train loss: 0.42\n",
      "===> val loss: 0.66, val iou: 0.70\n",
      "=> saving checkpoint\n",
      "Starting epoch 54\n",
      "learning rate: 0.0003766696065720893\n"
     ]
    },
    {
     "name": "stderr",
     "output_type": "stream",
     "text": [
      "100%|██████████| 51/51 [00:38<00:00,  1.31it/s]\n",
      "100%|██████████| 6/6 [00:04<00:00,  1.25it/s]\n"
     ]
    },
    {
     "name": "stdout",
     "output_type": "stream",
     "text": [
      "===> train loss: 0.41\n",
      "===> val loss: 0.68, val iou: 0.70\n",
      "=> saving checkpoint\n",
      "Starting epoch 55\n",
      "learning rate: 0.00037434687345337946\n"
     ]
    },
    {
     "name": "stderr",
     "output_type": "stream",
     "text": [
      "100%|██████████| 51/51 [00:38<00:00,  1.31it/s]\n",
      "100%|██████████| 6/6 [00:04<00:00,  1.23it/s]\n"
     ]
    },
    {
     "name": "stdout",
     "output_type": "stream",
     "text": [
      "===> train loss: 0.41\n",
      "===> val loss: 0.70, val iou: 0.70\n",
      "=> saving checkpoint\n",
      "Starting epoch 56\n",
      "learning rate: 0.0003720225378839164\n"
     ]
    },
    {
     "name": "stderr",
     "output_type": "stream",
     "text": [
      "100%|██████████| 51/51 [00:39<00:00,  1.30it/s]\n",
      "100%|██████████| 6/6 [00:04<00:00,  1.25it/s]\n"
     ]
    },
    {
     "name": "stdout",
     "output_type": "stream",
     "text": [
      "===> train loss: 0.41\n",
      "===> val loss: 0.67, val iou: 0.69\n",
      "=> saving checkpoint\n",
      "Starting epoch 57\n",
      "learning rate: 0.00036969658761830935\n"
     ]
    },
    {
     "name": "stderr",
     "output_type": "stream",
     "text": [
      "100%|██████████| 51/51 [00:38<00:00,  1.32it/s]\n",
      "100%|██████████| 6/6 [00:04<00:00,  1.23it/s]\n"
     ]
    },
    {
     "name": "stdout",
     "output_type": "stream",
     "text": [
      "===> train loss: 0.40\n",
      "===> val loss: 0.70, val iou: 0.71\n",
      "=> saving checkpoint\n",
      "Starting epoch 58\n",
      "learning rate: 0.00036736901023127285\n"
     ]
    },
    {
     "name": "stderr",
     "output_type": "stream",
     "text": [
      "100%|██████████| 51/51 [00:39<00:00,  1.30it/s]\n",
      "100%|██████████| 6/6 [00:04<00:00,  1.25it/s]\n"
     ]
    },
    {
     "name": "stdout",
     "output_type": "stream",
     "text": [
      "===> train loss: 0.42\n",
      "===> val loss: 0.67, val iou: 0.71\n",
      "=> saving checkpoint\n",
      "Starting epoch 59\n",
      "learning rate: 0.0003650397931136982\n"
     ]
    },
    {
     "name": "stderr",
     "output_type": "stream",
     "text": [
      "100%|██████████| 51/51 [00:38<00:00,  1.31it/s]\n",
      "100%|██████████| 6/6 [00:04<00:00,  1.24it/s]\n"
     ]
    },
    {
     "name": "stdout",
     "output_type": "stream",
     "text": [
      "===> train loss: 0.41\n",
      "===> val loss: 0.67, val iou: 0.72\n",
      "=> saving checkpoint\n",
      "Starting epoch 60\n",
      "learning rate: 0.00036270892346860996\n"
     ]
    },
    {
     "name": "stderr",
     "output_type": "stream",
     "text": [
      "100%|██████████| 51/51 [00:38<00:00,  1.31it/s]\n",
      "100%|██████████| 6/6 [00:04<00:00,  1.24it/s]\n"
     ]
    },
    {
     "name": "stdout",
     "output_type": "stream",
     "text": [
      "===> train loss: 0.41\n",
      "===> val loss: 0.71, val iou: 0.69\n",
      "=> saving checkpoint\n",
      "Starting epoch 61\n",
      "learning rate: 0.0003603763883070051\n"
     ]
    },
    {
     "name": "stderr",
     "output_type": "stream",
     "text": [
      "100%|██████████| 51/51 [00:38<00:00,  1.32it/s]\n",
      "100%|██████████| 6/6 [00:04<00:00,  1.24it/s]\n"
     ]
    },
    {
     "name": "stdout",
     "output_type": "stream",
     "text": [
      "===> train loss: 0.41\n",
      "===> val loss: 0.73, val iou: 0.69\n",
      "=> saving checkpoint\n",
      "Starting epoch 62\n",
      "learning rate: 0.00035804217444356787\n"
     ]
    },
    {
     "name": "stderr",
     "output_type": "stream",
     "text": [
      "100%|██████████| 51/51 [00:38<00:00,  1.32it/s]\n",
      "100%|██████████| 6/6 [00:04<00:00,  1.26it/s]\n"
     ]
    },
    {
     "name": "stdout",
     "output_type": "stream",
     "text": [
      "===> train loss: 0.41\n",
      "===> val loss: 0.68, val iou: 0.71\n",
      "=> saving checkpoint\n",
      "Starting epoch 63\n",
      "learning rate: 0.0003557062684922589\n"
     ]
    },
    {
     "name": "stderr",
     "output_type": "stream",
     "text": [
      "100%|██████████| 51/51 [00:39<00:00,  1.31it/s]\n",
      "100%|██████████| 6/6 [00:04<00:00,  1.26it/s]\n"
     ]
    },
    {
     "name": "stdout",
     "output_type": "stream",
     "text": [
      "===> train loss: 0.40\n",
      "===> val loss: 0.71, val iou: 0.70\n",
      "=> saving checkpoint\n",
      "Starting epoch 64\n",
      "learning rate: 0.00035336865686177077\n"
     ]
    },
    {
     "name": "stderr",
     "output_type": "stream",
     "text": [
      "100%|██████████| 51/51 [00:38<00:00,  1.32it/s]\n",
      "100%|██████████| 6/6 [00:04<00:00,  1.26it/s]\n"
     ]
    },
    {
     "name": "stdout",
     "output_type": "stream",
     "text": [
      "===> train loss: 0.40\n",
      "===> val loss: 0.72, val iou: 0.70\n",
      "=> saving checkpoint\n",
      "Starting epoch 65\n",
      "learning rate: 0.000351029325750848\n"
     ]
    },
    {
     "name": "stderr",
     "output_type": "stream",
     "text": [
      "100%|██████████| 51/51 [00:38<00:00,  1.32it/s]\n",
      "100%|██████████| 6/6 [00:04<00:00,  1.24it/s]\n"
     ]
    },
    {
     "name": "stdout",
     "output_type": "stream",
     "text": [
      "===> train loss: 0.44\n",
      "===> val loss: 0.71, val iou: 0.70\n",
      "=> saving checkpoint\n",
      "Starting epoch 66\n",
      "learning rate: 0.00034868826114346313\n"
     ]
    },
    {
     "name": "stderr",
     "output_type": "stream",
     "text": [
      "100%|██████████| 51/51 [00:39<00:00,  1.30it/s]\n",
      "100%|██████████| 6/6 [00:04<00:00,  1.25it/s]\n"
     ]
    },
    {
     "name": "stdout",
     "output_type": "stream",
     "text": [
      "===> train loss: 0.40\n",
      "===> val loss: 0.71, val iou: 0.66\n",
      "=> saving checkpoint\n",
      "Starting epoch 67\n",
      "learning rate: 0.0003463454488038471\n"
     ]
    },
    {
     "name": "stderr",
     "output_type": "stream",
     "text": [
      "100%|██████████| 51/51 [00:38<00:00,  1.32it/s]\n",
      "100%|██████████| 6/6 [00:04<00:00,  1.27it/s]\n"
     ]
    },
    {
     "name": "stdout",
     "output_type": "stream",
     "text": [
      "===> train loss: 0.40\n",
      "===> val loss: 0.73, val iou: 0.70\n",
      "=> saving checkpoint\n",
      "Starting epoch 68\n",
      "learning rate: 0.00034400087427136414\n"
     ]
    },
    {
     "name": "stderr",
     "output_type": "stream",
     "text": [
      "100%|██████████| 51/51 [00:39<00:00,  1.30it/s]\n",
      "100%|██████████| 6/6 [00:05<00:00,  1.10it/s]\n"
     ]
    },
    {
     "name": "stdout",
     "output_type": "stream",
     "text": [
      "===> train loss: 0.40\n",
      "===> val loss: 0.64, val iou: 0.73\n",
      "=> saving checkpoint\n",
      "Starting epoch 69\n",
      "learning rate: 0.0003416545228552301\n"
     ]
    },
    {
     "name": "stderr",
     "output_type": "stream",
     "text": [
      "100%|██████████| 51/51 [00:39<00:00,  1.28it/s]\n",
      "100%|██████████| 6/6 [00:04<00:00,  1.26it/s]\n"
     ]
    },
    {
     "name": "stdout",
     "output_type": "stream",
     "text": [
      "===> train loss: 0.39\n",
      "===> val loss: 0.69, val iou: 0.72\n",
      "=> saving checkpoint\n",
      "Starting epoch 70\n",
      "learning rate: 0.0003393063796290625\n"
     ]
    },
    {
     "name": "stderr",
     "output_type": "stream",
     "text": [
      "100%|██████████| 51/51 [00:38<00:00,  1.31it/s]\n",
      "100%|██████████| 6/6 [00:04<00:00,  1.27it/s]\n"
     ]
    },
    {
     "name": "stdout",
     "output_type": "stream",
     "text": [
      "===> train loss: 0.39\n",
      "===> val loss: 0.71, val iou: 0.69\n",
      "=> saving checkpoint\n",
      "Starting epoch 71\n",
      "learning rate: 0.00033695642942526094\n"
     ]
    },
    {
     "name": "stderr",
     "output_type": "stream",
     "text": [
      "100%|██████████| 51/51 [00:39<00:00,  1.31it/s]\n",
      "100%|██████████| 6/6 [00:04<00:00,  1.25it/s]\n"
     ]
    },
    {
     "name": "stdout",
     "output_type": "stream",
     "text": [
      "===> train loss: 0.39\n",
      "===> val loss: 0.67, val iou: 0.69\n",
      "=> saving checkpoint\n",
      "Starting epoch 72\n",
      "learning rate: 0.0003346046568292074\n"
     ]
    },
    {
     "name": "stderr",
     "output_type": "stream",
     "text": [
      "100%|██████████| 51/51 [00:38<00:00,  1.31it/s]\n",
      "100%|██████████| 6/6 [00:04<00:00,  1.24it/s]\n"
     ]
    },
    {
     "name": "stdout",
     "output_type": "stream",
     "text": [
      "===> train loss: 0.40\n",
      "===> val loss: 0.69, val iou: 0.70\n",
      "=> saving checkpoint\n",
      "Starting epoch 73\n",
      "learning rate: 0.00033225104617328177\n"
     ]
    },
    {
     "name": "stderr",
     "output_type": "stream",
     "text": [
      "100%|██████████| 51/51 [00:39<00:00,  1.31it/s]\n",
      "100%|██████████| 6/6 [00:04<00:00,  1.21it/s]\n"
     ]
    },
    {
     "name": "stdout",
     "output_type": "stream",
     "text": [
      "===> train loss: 0.39\n",
      "===> val loss: 0.69, val iou: 0.70\n",
      "=> saving checkpoint\n",
      "Starting epoch 74\n",
      "learning rate: 0.00032989558153068285\n"
     ]
    },
    {
     "name": "stderr",
     "output_type": "stream",
     "text": [
      "100%|██████████| 51/51 [00:39<00:00,  1.29it/s]\n",
      "100%|██████████| 6/6 [00:04<00:00,  1.25it/s]\n"
     ]
    },
    {
     "name": "stdout",
     "output_type": "stream",
     "text": [
      "===> train loss: 0.38\n",
      "===> val loss: 0.64, val iou: 0.71\n",
      "=> saving checkpoint\n",
      "Starting epoch 75\n",
      "learning rate: 0.0003275382467090493\n"
     ]
    },
    {
     "name": "stderr",
     "output_type": "stream",
     "text": [
      "100%|██████████| 51/51 [00:39<00:00,  1.30it/s]\n",
      "100%|██████████| 6/6 [00:04<00:00,  1.25it/s]\n"
     ]
    },
    {
     "name": "stdout",
     "output_type": "stream",
     "text": [
      "===> train loss: 0.39\n",
      "===> val loss: 0.71, val iou: 0.71\n",
      "=> saving checkpoint\n",
      "Starting epoch 76\n",
      "learning rate: 0.000325179025243871\n"
     ]
    },
    {
     "name": "stderr",
     "output_type": "stream",
     "text": [
      "100%|██████████| 51/51 [00:38<00:00,  1.31it/s]\n",
      "100%|██████████| 6/6 [00:04<00:00,  1.22it/s]\n"
     ]
    },
    {
     "name": "stdout",
     "output_type": "stream",
     "text": [
      "===> train loss: 0.38\n",
      "===> val loss: 0.78, val iou: 0.66\n",
      "=> saving checkpoint\n",
      "Starting epoch 77\n",
      "learning rate: 0.0003228179003916818\n"
     ]
    },
    {
     "name": "stderr",
     "output_type": "stream",
     "text": [
      "100%|██████████| 51/51 [00:39<00:00,  1.30it/s]\n",
      "100%|██████████| 6/6 [00:04<00:00,  1.26it/s]\n"
     ]
    },
    {
     "name": "stdout",
     "output_type": "stream",
     "text": [
      "===> train loss: 0.38\n",
      "===> val loss: 0.69, val iou: 0.70\n",
      "=> saving checkpoint\n",
      "Starting epoch 78\n",
      "learning rate: 0.00032045485512302606\n"
     ]
    },
    {
     "name": "stderr",
     "output_type": "stream",
     "text": [
      "100%|██████████| 51/51 [00:38<00:00,  1.31it/s]\n",
      "100%|██████████| 6/6 [00:04<00:00,  1.23it/s]\n"
     ]
    },
    {
     "name": "stdout",
     "output_type": "stream",
     "text": [
      "===> train loss: 0.38\n",
      "===> val loss: 0.72, val iou: 0.68\n",
      "=> saving checkpoint\n",
      "Starting epoch 79\n",
      "learning rate: 0.00031808987211518863\n"
     ]
    },
    {
     "name": "stderr",
     "output_type": "stream",
     "text": [
      "100%|██████████| 51/51 [00:39<00:00,  1.30it/s]\n",
      "100%|██████████| 6/6 [00:04<00:00,  1.23it/s]\n"
     ]
    },
    {
     "name": "stdout",
     "output_type": "stream",
     "text": [
      "===> train loss: 0.39\n",
      "===> val loss: 0.72, val iou: 0.69\n",
      "=> saving checkpoint\n",
      "Starting epoch 80\n",
      "learning rate: 0.00031572293374467766\n"
     ]
    },
    {
     "name": "stderr",
     "output_type": "stream",
     "text": [
      "100%|██████████| 51/51 [00:39<00:00,  1.30it/s]\n",
      "100%|██████████| 6/6 [00:04<00:00,  1.24it/s]\n"
     ]
    },
    {
     "name": "stdout",
     "output_type": "stream",
     "text": [
      "===> train loss: 0.37\n",
      "===> val loss: 0.66, val iou: 0.73\n",
      "=> saving checkpoint\n",
      "Starting epoch 81\n",
      "learning rate: 0.0003133540220794511\n"
     ]
    },
    {
     "name": "stderr",
     "output_type": "stream",
     "text": [
      "100%|██████████| 51/51 [00:39<00:00,  1.31it/s]\n",
      "100%|██████████| 6/6 [00:04<00:00,  1.20it/s]\n"
     ]
    },
    {
     "name": "stdout",
     "output_type": "stream",
     "text": [
      "===> train loss: 0.38\n",
      "===> val loss: 0.71, val iou: 0.70\n",
      "=> saving checkpoint\n",
      "Starting epoch 82\n",
      "learning rate: 0.00031098311887087574\n"
     ]
    },
    {
     "name": "stderr",
     "output_type": "stream",
     "text": [
      "100%|██████████| 51/51 [00:39<00:00,  1.29it/s]\n",
      "100%|██████████| 6/6 [00:04<00:00,  1.23it/s]\n"
     ]
    },
    {
     "name": "stdout",
     "output_type": "stream",
     "text": [
      "===> train loss: 0.39\n",
      "===> val loss: 0.71, val iou: 0.68\n",
      "=> saving checkpoint\n",
      "Starting epoch 83\n",
      "learning rate: 0.0003086102055454047\n"
     ]
    },
    {
     "name": "stderr",
     "output_type": "stream",
     "text": [
      "100%|██████████| 51/51 [00:39<00:00,  1.30it/s]\n",
      "100%|██████████| 6/6 [00:04<00:00,  1.23it/s]\n"
     ]
    },
    {
     "name": "stdout",
     "output_type": "stream",
     "text": [
      "===> train loss: 0.37\n",
      "===> val loss: 0.83, val iou: 0.67\n",
      "=> saving checkpoint\n",
      "Starting epoch 84\n",
      "learning rate: 0.00030623526319596624\n"
     ]
    },
    {
     "name": "stderr",
     "output_type": "stream",
     "text": [
      "100%|██████████| 51/51 [00:39<00:00,  1.31it/s]\n",
      "100%|██████████| 6/6 [00:04<00:00,  1.22it/s]\n"
     ]
    },
    {
     "name": "stdout",
     "output_type": "stream",
     "text": [
      "===> train loss: 0.38\n",
      "===> val loss: 0.71, val iou: 0.68\n",
      "=> saving checkpoint\n",
      "Starting epoch 85\n",
      "learning rate: 0.0003038582725730446\n"
     ]
    },
    {
     "name": "stderr",
     "output_type": "stream",
     "text": [
      "100%|██████████| 51/51 [00:38<00:00,  1.32it/s]\n",
      "100%|██████████| 6/6 [00:04<00:00,  1.27it/s]\n"
     ]
    },
    {
     "name": "stdout",
     "output_type": "stream",
     "text": [
      "===> train loss: 0.37\n",
      "===> val loss: 0.65, val iou: 0.71\n",
      "=> saving checkpoint\n",
      "Starting epoch 86\n",
      "learning rate: 0.000301479214075446\n"
     ]
    },
    {
     "name": "stderr",
     "output_type": "stream",
     "text": [
      "100%|██████████| 51/51 [00:38<00:00,  1.31it/s]\n",
      "100%|██████████| 6/6 [00:04<00:00,  1.24it/s]\n"
     ]
    },
    {
     "name": "stdout",
     "output_type": "stream",
     "text": [
      "===> train loss: 0.37\n",
      "===> val loss: 0.66, val iou: 0.70\n",
      "=> saving checkpoint\n",
      "Starting epoch 87\n",
      "learning rate: 0.00029909806774072956\n"
     ]
    },
    {
     "name": "stderr",
     "output_type": "stream",
     "text": [
      "100%|██████████| 51/51 [00:39<00:00,  1.30it/s]\n",
      "100%|██████████| 6/6 [00:04<00:00,  1.26it/s]\n"
     ]
    },
    {
     "name": "stdout",
     "output_type": "stream",
     "text": [
      "===> train loss: 0.37\n",
      "===> val loss: 0.61, val iou: 0.73\n",
      "=> saving checkpoint\n",
      "Starting epoch 88\n",
      "learning rate: 0.00029671481323529297\n"
     ]
    },
    {
     "name": "stderr",
     "output_type": "stream",
     "text": [
      "100%|██████████| 51/51 [00:39<00:00,  1.30it/s]\n",
      "100%|██████████| 6/6 [00:04<00:00,  1.25it/s]\n"
     ]
    },
    {
     "name": "stdout",
     "output_type": "stream",
     "text": [
      "===> train loss: 0.36\n",
      "===> val loss: 0.62, val iou: 0.72\n",
      "=> saving checkpoint\n",
      "Starting epoch 89\n",
      "learning rate: 0.0002943294298440934\n"
     ]
    },
    {
     "name": "stderr",
     "output_type": "stream",
     "text": [
      "100%|██████████| 51/51 [00:39<00:00,  1.30it/s]\n",
      "100%|██████████| 6/6 [00:04<00:00,  1.27it/s]\n"
     ]
    },
    {
     "name": "stdout",
     "output_type": "stream",
     "text": [
      "===> train loss: 0.36\n",
      "===> val loss: 0.65, val iou: 0.72\n",
      "=> saving checkpoint\n",
      "Starting epoch 90\n",
      "learning rate: 0.00029194189645999016\n"
     ]
    },
    {
     "name": "stderr",
     "output_type": "stream",
     "text": [
      "100%|██████████| 51/51 [00:38<00:00,  1.32it/s]\n",
      "100%|██████████| 6/6 [00:04<00:00,  1.25it/s]\n"
     ]
    },
    {
     "name": "stdout",
     "output_type": "stream",
     "text": [
      "===> train loss: 0.35\n",
      "===> val loss: 0.63, val iou: 0.73\n",
      "=> saving checkpoint\n",
      "Starting epoch 91\n",
      "learning rate: 0.0002895521915726882\n"
     ]
    },
    {
     "name": "stderr",
     "output_type": "stream",
     "text": [
      "100%|██████████| 51/51 [00:39<00:00,  1.29it/s]\n",
      "100%|██████████| 6/6 [00:04<00:00,  1.24it/s]\n"
     ]
    },
    {
     "name": "stdout",
     "output_type": "stream",
     "text": [
      "===> train loss: 0.37\n",
      "===> val loss: 0.76, val iou: 0.70\n",
      "=> saving checkpoint\n",
      "Starting epoch 92\n",
      "learning rate: 0.00028716029325726706\n"
     ]
    },
    {
     "name": "stderr",
     "output_type": "stream",
     "text": [
      "100%|██████████| 51/51 [00:38<00:00,  1.31it/s]\n",
      "100%|██████████| 6/6 [00:04<00:00,  1.26it/s]\n"
     ]
    },
    {
     "name": "stdout",
     "output_type": "stream",
     "text": [
      "===> train loss: 0.37\n",
      "===> val loss: 0.67, val iou: 0.71\n",
      "=> saving checkpoint\n",
      "Starting epoch 93\n",
      "learning rate: 0.00028476617916227284\n"
     ]
    },
    {
     "name": "stderr",
     "output_type": "stream",
     "text": [
      "100%|██████████| 51/51 [00:38<00:00,  1.32it/s]\n",
      "100%|██████████| 6/6 [00:04<00:00,  1.29it/s]\n"
     ]
    },
    {
     "name": "stdout",
     "output_type": "stream",
     "text": [
      "===> train loss: 0.35\n",
      "===> val loss: 0.63, val iou: 0.71\n",
      "=> saving checkpoint\n",
      "Starting epoch 94\n",
      "learning rate: 0.0002823698264973549\n"
     ]
    },
    {
     "name": "stderr",
     "output_type": "stream",
     "text": [
      "100%|██████████| 51/51 [00:38<00:00,  1.31it/s]\n",
      "100%|██████████| 6/6 [00:04<00:00,  1.25it/s]\n"
     ]
    },
    {
     "name": "stdout",
     "output_type": "stream",
     "text": [
      "===> train loss: 0.37\n",
      "===> val loss: 0.72, val iou: 0.68\n",
      "=> saving checkpoint\n",
      "Starting epoch 95\n",
      "learning rate: 0.00027997121202042266\n"
     ]
    },
    {
     "name": "stderr",
     "output_type": "stream",
     "text": [
      "100%|██████████| 51/51 [00:38<00:00,  1.32it/s]\n",
      "100%|██████████| 6/6 [00:04<00:00,  1.25it/s]\n"
     ]
    },
    {
     "name": "stdout",
     "output_type": "stream",
     "text": [
      "===> train loss: 0.36\n",
      "===> val loss: 0.71, val iou: 0.70\n",
      "=> saving checkpoint\n",
      "Starting epoch 96\n",
      "learning rate: 0.00027757031202430184\n"
     ]
    },
    {
     "name": "stderr",
     "output_type": "stream",
     "text": [
      "100%|██████████| 51/51 [00:38<00:00,  1.31it/s]\n",
      "100%|██████████| 6/6 [00:04<00:00,  1.25it/s]\n"
     ]
    },
    {
     "name": "stdout",
     "output_type": "stream",
     "text": [
      "===> train loss: 0.36\n",
      "===> val loss: 0.64, val iou: 0.72\n",
      "=> saving checkpoint\n",
      "Starting epoch 97\n",
      "learning rate: 0.00027516710232286393\n"
     ]
    },
    {
     "name": "stderr",
     "output_type": "stream",
     "text": [
      "100%|██████████| 51/51 [00:38<00:00,  1.32it/s]\n",
      "100%|██████████| 6/6 [00:04<00:00,  1.26it/s]\n"
     ]
    },
    {
     "name": "stdout",
     "output_type": "stream",
     "text": [
      "===> train loss: 0.35\n",
      "===> val loss: 0.73, val iou: 0.68\n",
      "=> saving checkpoint\n",
      "Starting epoch 98\n",
      "learning rate: 0.00027276155823660294\n"
     ]
    },
    {
     "name": "stderr",
     "output_type": "stream",
     "text": [
      "100%|██████████| 51/51 [00:38<00:00,  1.31it/s]\n",
      "100%|██████████| 6/6 [00:04<00:00,  1.26it/s]\n"
     ]
    },
    {
     "name": "stdout",
     "output_type": "stream",
     "text": [
      "===> train loss: 0.36\n",
      "===> val loss: 0.68, val iou: 0.70\n",
      "=> saving checkpoint\n",
      "Starting epoch 99\n",
      "learning rate: 0.00027035365457763247\n"
     ]
    },
    {
     "name": "stderr",
     "output_type": "stream",
     "text": [
      "100%|██████████| 51/51 [00:38<00:00,  1.32it/s]\n",
      "100%|██████████| 6/6 [00:04<00:00,  1.24it/s]\n"
     ]
    },
    {
     "name": "stdout",
     "output_type": "stream",
     "text": [
      "===> train loss: 0.35\n",
      "===> val loss: 0.70, val iou: 0.70\n",
      "=> saving checkpoint\n",
      "Starting epoch 100\n",
      "learning rate: 0.0002679433656340733\n"
     ]
    },
    {
     "name": "stderr",
     "output_type": "stream",
     "text": [
      "100%|██████████| 51/51 [00:39<00:00,  1.30it/s]\n",
      "100%|██████████| 6/6 [00:04<00:00,  1.25it/s]\n"
     ]
    },
    {
     "name": "stdout",
     "output_type": "stream",
     "text": [
      "===> train loss: 0.36\n",
      "===> val loss: 0.77, val iou: 0.68\n",
      "=> saving checkpoint\n",
      "Starting epoch 101\n",
      "learning rate: 0.00026553066515380024\n"
     ]
    },
    {
     "name": "stderr",
     "output_type": "stream",
     "text": [
      "100%|██████████| 51/51 [00:39<00:00,  1.31it/s]\n",
      "100%|██████████| 6/6 [00:04<00:00,  1.23it/s]\n"
     ]
    },
    {
     "name": "stdout",
     "output_type": "stream",
     "text": [
      "===> train loss: 0.35\n",
      "===> val loss: 0.70, val iou: 0.70\n",
      "=> saving checkpoint\n",
      "Starting epoch 102\n",
      "learning rate: 0.00026311552632751593\n"
     ]
    },
    {
     "name": "stderr",
     "output_type": "stream",
     "text": [
      "100%|██████████| 51/51 [00:39<00:00,  1.31it/s]\n",
      "100%|██████████| 6/6 [00:04<00:00,  1.23it/s]\n"
     ]
    },
    {
     "name": "stdout",
     "output_type": "stream",
     "text": [
      "===> train loss: 0.34\n",
      "===> val loss: 0.75, val iou: 0.68\n",
      "=> saving checkpoint\n",
      "Starting epoch 103\n",
      "learning rate: 0.0002606979217711156\n"
     ]
    },
    {
     "name": "stderr",
     "output_type": "stream",
     "text": [
      "100%|██████████| 51/51 [00:38<00:00,  1.31it/s]\n",
      "100%|██████████| 6/6 [00:04<00:00,  1.23it/s]\n"
     ]
    },
    {
     "name": "stdout",
     "output_type": "stream",
     "text": [
      "===> train loss: 0.35\n",
      "===> val loss: 0.72, val iou: 0.68\n",
      "=> saving checkpoint\n",
      "Starting epoch 104\n",
      "learning rate: 0.0002582778235073065\n"
     ]
    },
    {
     "name": "stderr",
     "output_type": "stream",
     "text": [
      "100%|██████████| 51/51 [00:38<00:00,  1.32it/s]\n",
      "100%|██████████| 6/6 [00:04<00:00,  1.26it/s]\n"
     ]
    },
    {
     "name": "stdout",
     "output_type": "stream",
     "text": [
      "===> train loss: 0.35\n",
      "===> val loss: 0.75, val iou: 0.69\n",
      "=> saving checkpoint\n",
      "Starting epoch 105\n",
      "learning rate: 0.0002558552029464411\n"
     ]
    },
    {
     "name": "stderr",
     "output_type": "stream",
     "text": [
      "100%|██████████| 51/51 [00:38<00:00,  1.31it/s]\n",
      "100%|██████████| 6/6 [00:04<00:00,  1.26it/s]\n"
     ]
    },
    {
     "name": "stdout",
     "output_type": "stream",
     "text": [
      "===> train loss: 0.35\n",
      "===> val loss: 0.80, val iou: 0.69\n",
      "=> saving checkpoint\n",
      "Starting epoch 106\n",
      "learning rate: 0.00025343003086652366\n"
     ]
    },
    {
     "name": "stderr",
     "output_type": "stream",
     "text": [
      "100%|██████████| 51/51 [00:38<00:00,  1.31it/s]\n",
      "100%|██████████| 6/6 [00:04<00:00,  1.25it/s]\n"
     ]
    },
    {
     "name": "stdout",
     "output_type": "stream",
     "text": [
      "===> train loss: 0.34\n",
      "===> val loss: 0.83, val iou: 0.66\n",
      "=> saving checkpoint\n",
      "Starting epoch 107\n",
      "learning rate: 0.00025100227739234304\n"
     ]
    },
    {
     "name": "stderr",
     "output_type": "stream",
     "text": [
      "100%|██████████| 51/51 [00:38<00:00,  1.32it/s]\n",
      "100%|██████████| 6/6 [00:04<00:00,  1.21it/s]\n"
     ]
    },
    {
     "name": "stdout",
     "output_type": "stream",
     "text": [
      "===> train loss: 0.34\n",
      "===> val loss: 0.75, val iou: 0.69\n",
      "=> saving checkpoint\n",
      "Starting epoch 108\n",
      "learning rate: 0.0002485719119736858\n"
     ]
    },
    {
     "name": "stderr",
     "output_type": "stream",
     "text": [
      "100%|██████████| 51/51 [00:38<00:00,  1.31it/s]\n",
      "100%|██████████| 6/6 [00:04<00:00,  1.24it/s]\n"
     ]
    },
    {
     "name": "stdout",
     "output_type": "stream",
     "text": [
      "===> train loss: 0.34\n",
      "===> val loss: 0.74, val iou: 0.68\n",
      "=> saving checkpoint\n",
      "Starting epoch 109\n",
      "learning rate: 0.00024613890336257747\n"
     ]
    },
    {
     "name": "stderr",
     "output_type": "stream",
     "text": [
      "100%|██████████| 51/51 [00:38<00:00,  1.32it/s]\n",
      "100%|██████████| 6/6 [00:04<00:00,  1.22it/s]\n"
     ]
    },
    {
     "name": "stdout",
     "output_type": "stream",
     "text": [
      "===> train loss: 0.34\n",
      "===> val loss: 0.71, val iou: 0.68\n",
      "=> saving checkpoint\n",
      "Starting epoch 110\n",
      "learning rate: 0.00024370321958949772\n"
     ]
    },
    {
     "name": "stderr",
     "output_type": "stream",
     "text": [
      "100%|██████████| 51/51 [00:39<00:00,  1.30it/s]\n",
      "100%|██████████| 6/6 [00:04<00:00,  1.23it/s]\n"
     ]
    },
    {
     "name": "stdout",
     "output_type": "stream",
     "text": [
      "===> train loss: 0.33\n",
      "===> val loss: 0.66, val iou: 0.71\n",
      "=> saving checkpoint\n",
      "Starting epoch 111\n",
      "learning rate: 0.0002412648279385112\n"
     ]
    },
    {
     "name": "stderr",
     "output_type": "stream",
     "text": [
      "100%|██████████| 51/51 [00:38<00:00,  1.31it/s]\n",
      "100%|██████████| 6/6 [00:04<00:00,  1.24it/s]\n"
     ]
    },
    {
     "name": "stdout",
     "output_type": "stream",
     "text": [
      "===> train loss: 0.35\n",
      "===> val loss: 0.77, val iou: 0.67\n",
      "=> saving checkpoint\n",
      "Starting epoch 112\n",
      "learning rate: 0.0002388236949212524\n"
     ]
    },
    {
     "name": "stderr",
     "output_type": "stream",
     "text": [
      "100%|██████████| 51/51 [00:39<00:00,  1.30it/s]\n",
      "100%|██████████| 6/6 [00:04<00:00,  1.27it/s]\n"
     ]
    },
    {
     "name": "stdout",
     "output_type": "stream",
     "text": [
      "===> train loss: 0.34\n",
      "===> val loss: 0.68, val iou: 0.71\n",
      "=> saving checkpoint\n",
      "Starting epoch 113\n",
      "learning rate: 0.0002363797862496971\n"
     ]
    },
    {
     "name": "stderr",
     "output_type": "stream",
     "text": [
      "100%|██████████| 51/51 [00:38<00:00,  1.31it/s]\n",
      "100%|██████████| 6/6 [00:04<00:00,  1.27it/s]\n"
     ]
    },
    {
     "name": "stdout",
     "output_type": "stream",
     "text": [
      "===> train loss: 0.34\n",
      "===> val loss: 0.66, val iou: 0.71\n",
      "=> saving checkpoint\n",
      "Starting epoch 114\n",
      "learning rate: 0.00023393306680765\n"
     ]
    },
    {
     "name": "stderr",
     "output_type": "stream",
     "text": [
      "100%|██████████| 51/51 [00:38<00:00,  1.31it/s]\n",
      "100%|██████████| 6/6 [00:04<00:00,  1.26it/s]\n"
     ]
    },
    {
     "name": "stdout",
     "output_type": "stream",
     "text": [
      "===> train loss: 0.33\n",
      "===> val loss: 0.76, val iou: 0.67\n",
      "=> saving checkpoint\n",
      "Starting epoch 115\n",
      "learning rate: 0.0002314835006208722\n"
     ]
    },
    {
     "name": "stderr",
     "output_type": "stream",
     "text": [
      "100%|██████████| 51/51 [00:38<00:00,  1.32it/s]\n",
      "100%|██████████| 6/6 [00:04<00:00,  1.24it/s]\n"
     ]
    },
    {
     "name": "stdout",
     "output_type": "stream",
     "text": [
      "===> train loss: 0.33\n",
      "===> val loss: 0.68, val iou: 0.70\n",
      "=> saving checkpoint\n",
      "Starting epoch 116\n",
      "learning rate: 0.00022903105082576662\n"
     ]
    },
    {
     "name": "stderr",
     "output_type": "stream",
     "text": [
      "100%|██████████| 51/51 [00:38<00:00,  1.32it/s]\n",
      "100%|██████████| 6/6 [00:04<00:00,  1.23it/s]\n"
     ]
    },
    {
     "name": "stdout",
     "output_type": "stream",
     "text": [
      "===> train loss: 0.33\n",
      "===> val loss: 0.77, val iou: 0.68\n",
      "=> saving checkpoint\n",
      "Starting epoch 117\n",
      "learning rate: 0.0002265756796365339\n"
     ]
    },
    {
     "name": "stderr",
     "output_type": "stream",
     "text": [
      "100%|██████████| 51/51 [00:38<00:00,  1.32it/s]\n",
      "100%|██████████| 6/6 [00:04<00:00,  1.25it/s]\n"
     ]
    },
    {
     "name": "stdout",
     "output_type": "stream",
     "text": [
      "===> train loss: 0.33\n",
      "===> val loss: 0.84, val iou: 0.64\n",
      "=> saving checkpoint\n",
      "Starting epoch 118\n",
      "learning rate: 0.00022411734831070474\n"
     ]
    },
    {
     "name": "stderr",
     "output_type": "stream",
     "text": [
      "100%|██████████| 51/51 [00:38<00:00,  1.33it/s]\n",
      "100%|██████████| 6/6 [00:04<00:00,  1.25it/s]\n"
     ]
    },
    {
     "name": "stdout",
     "output_type": "stream",
     "text": [
      "===> train loss: 0.33\n",
      "===> val loss: 0.73, val iou: 0.68\n",
      "=> saving checkpoint\n",
      "Starting epoch 119\n",
      "learning rate: 0.0002216560171129477\n"
     ]
    },
    {
     "name": "stderr",
     "output_type": "stream",
     "text": [
      "100%|██████████| 51/51 [00:38<00:00,  1.32it/s]\n",
      "100%|██████████| 6/6 [00:04<00:00,  1.23it/s]\n"
     ]
    },
    {
     "name": "stdout",
     "output_type": "stream",
     "text": [
      "===> train loss: 0.33\n",
      "===> val loss: 0.69, val iou: 0.69\n",
      "=> saving checkpoint\n",
      "Starting epoch 120\n",
      "learning rate: 0.00021919164527704348\n"
     ]
    },
    {
     "name": "stderr",
     "output_type": "stream",
     "text": [
      "100%|██████████| 51/51 [00:38<00:00,  1.31it/s]\n",
      "100%|██████████| 6/6 [00:04<00:00,  1.25it/s]\n"
     ]
    },
    {
     "name": "stdout",
     "output_type": "stream",
     "text": [
      "===> train loss: 0.32\n",
      "===> val loss: 0.71, val iou: 0.70\n",
      "=> saving checkpoint\n",
      "Starting epoch 121\n",
      "learning rate: 0.0002167241909659091\n"
     ]
    },
    {
     "name": "stderr",
     "output_type": "stream",
     "text": [
      "100%|██████████| 51/51 [00:38<00:00,  1.31it/s]\n",
      "100%|██████████| 6/6 [00:04<00:00,  1.25it/s]\n"
     ]
    },
    {
     "name": "stdout",
     "output_type": "stream",
     "text": [
      "===> train loss: 0.33\n",
      "===> val loss: 0.73, val iou: 0.69\n",
      "=> saving checkpoint\n",
      "Starting epoch 122\n",
      "learning rate: 0.00021425361122954587\n"
     ]
    },
    {
     "name": "stderr",
     "output_type": "stream",
     "text": [
      "100%|██████████| 51/51 [00:39<00:00,  1.30it/s]\n",
      "100%|██████████| 6/6 [00:04<00:00,  1.23it/s]\n"
     ]
    },
    {
     "name": "stdout",
     "output_type": "stream",
     "text": [
      "===> train loss: 0.33\n",
      "===> val loss: 0.71, val iou: 0.71\n",
      "=> saving checkpoint\n",
      "Starting epoch 123\n",
      "learning rate: 0.00021177986196077483\n"
     ]
    },
    {
     "name": "stderr",
     "output_type": "stream",
     "text": [
      "100%|██████████| 51/51 [00:38<00:00,  1.32it/s]\n",
      "100%|██████████| 6/6 [00:04<00:00,  1.25it/s]\n"
     ]
    },
    {
     "name": "stdout",
     "output_type": "stream",
     "text": [
      "===> train loss: 0.32\n",
      "===> val loss: 0.82, val iou: 0.66\n",
      "=> saving checkpoint\n",
      "Starting epoch 124\n",
      "learning rate: 0.00020930289784861406\n"
     ]
    },
    {
     "name": "stderr",
     "output_type": "stream",
     "text": [
      "100%|██████████| 51/51 [00:38<00:00,  1.32it/s]\n",
      "100%|██████████| 6/6 [00:04<00:00,  1.21it/s]\n"
     ]
    },
    {
     "name": "stdout",
     "output_type": "stream",
     "text": [
      "===> train loss: 0.33\n",
      "===> val loss: 0.65, val iou: 0.69\n",
      "=> saving checkpoint\n",
      "Starting epoch 125\n",
      "learning rate: 0.0002068226723291381\n"
     ]
    },
    {
     "name": "stderr",
     "output_type": "stream",
     "text": [
      "100%|██████████| 51/51 [00:38<00:00,  1.31it/s]\n",
      "100%|██████████| 6/6 [00:04<00:00,  1.26it/s]\n"
     ]
    },
    {
     "name": "stdout",
     "output_type": "stream",
     "text": [
      "===> train loss: 0.32\n",
      "===> val loss: 0.70, val iou: 0.69\n",
      "=> saving checkpoint\n",
      "Starting epoch 126\n",
      "learning rate: 0.00020433913753364945\n"
     ]
    },
    {
     "name": "stderr",
     "output_type": "stream",
     "text": [
      "100%|██████████| 51/51 [00:39<00:00,  1.30it/s]\n",
      "100%|██████████| 6/6 [00:04<00:00,  1.25it/s]\n"
     ]
    },
    {
     "name": "stdout",
     "output_type": "stream",
     "text": [
      "===> train loss: 0.32\n",
      "===> val loss: 0.75, val iou: 0.68\n",
      "=> saving checkpoint\n",
      "Starting epoch 127\n",
      "learning rate: 0.00020185224423397574\n"
     ]
    },
    {
     "name": "stderr",
     "output_type": "stream",
     "text": [
      "100%|██████████| 51/51 [00:39<00:00,  1.30it/s]\n",
      "100%|██████████| 6/6 [00:04<00:00,  1.25it/s]\n"
     ]
    },
    {
     "name": "stdout",
     "output_type": "stream",
     "text": [
      "===> train loss: 0.32\n",
      "===> val loss: 0.76, val iou: 0.67\n",
      "=> saving checkpoint\n",
      "Starting epoch 128\n",
      "learning rate: 0.0001993619417846922\n"
     ]
    },
    {
     "name": "stderr",
     "output_type": "stream",
     "text": [
      "100%|██████████| 51/51 [00:39<00:00,  1.31it/s]\n",
      "100%|██████████| 6/6 [00:04<00:00,  1.26it/s]\n"
     ]
    },
    {
     "name": "stdout",
     "output_type": "stream",
     "text": [
      "===> train loss: 0.31\n",
      "===> val loss: 0.81, val iou: 0.66\n",
      "=> saving checkpoint\n",
      "Starting epoch 129\n",
      "learning rate: 0.0001968681780620511\n"
     ]
    },
    {
     "name": "stderr",
     "output_type": "stream",
     "text": [
      "100%|██████████| 51/51 [00:38<00:00,  1.31it/s]\n",
      "100%|██████████| 6/6 [00:04<00:00,  1.25it/s]\n"
     ]
    },
    {
     "name": "stdout",
     "output_type": "stream",
     "text": [
      "===> train loss: 0.31\n",
      "===> val loss: 0.70, val iou: 0.70\n",
      "=> saving checkpoint\n",
      "Starting epoch 130\n",
      "learning rate: 0.00019437089939938174\n"
     ]
    },
    {
     "name": "stderr",
     "output_type": "stream",
     "text": [
      "100%|██████████| 51/51 [00:38<00:00,  1.31it/s]\n",
      "100%|██████████| 6/6 [00:04<00:00,  1.24it/s]\n"
     ]
    },
    {
     "name": "stdout",
     "output_type": "stream",
     "text": [
      "===> train loss: 0.31\n",
      "===> val loss: 0.72, val iou: 0.70\n",
      "=> saving checkpoint\n",
      "Starting epoch 131\n",
      "learning rate: 0.0001918700505187031\n"
     ]
    },
    {
     "name": "stderr",
     "output_type": "stream",
     "text": [
      "100%|██████████| 51/51 [00:38<00:00,  1.31it/s]\n",
      "100%|██████████| 6/6 [00:04<00:00,  1.23it/s]\n"
     ]
    },
    {
     "name": "stdout",
     "output_type": "stream",
     "text": [
      "===> train loss: 0.32\n",
      "===> val loss: 0.73, val iou: 0.68\n",
      "=> saving checkpoint\n",
      "Starting epoch 132\n",
      "learning rate: 0.00018936557445826965\n"
     ]
    },
    {
     "name": "stderr",
     "output_type": "stream",
     "text": [
      "100%|██████████| 51/51 [00:39<00:00,  1.31it/s]\n",
      "100%|██████████| 6/6 [00:04<00:00,  1.26it/s]\n"
     ]
    },
    {
     "name": "stdout",
     "output_type": "stream",
     "text": [
      "===> train loss: 0.31\n",
      "===> val loss: 0.74, val iou: 0.68\n",
      "=> saving checkpoint\n",
      "Starting epoch 133\n",
      "learning rate: 0.00018685741249574434\n"
     ]
    },
    {
     "name": "stderr",
     "output_type": "stream",
     "text": [
      "100%|██████████| 51/51 [00:38<00:00,  1.31it/s]\n",
      "100%|██████████| 6/6 [00:04<00:00,  1.25it/s]\n"
     ]
    },
    {
     "name": "stdout",
     "output_type": "stream",
     "text": [
      "===> train loss: 0.31\n",
      "===> val loss: 0.64, val iou: 0.72\n",
      "=> saving checkpoint\n",
      "Starting epoch 134\n",
      "learning rate: 0.00018434550406666597\n"
     ]
    },
    {
     "name": "stderr",
     "output_type": "stream",
     "text": [
      "100%|██████████| 51/51 [00:38<00:00,  1.31it/s]\n",
      "100%|██████████| 6/6 [00:04<00:00,  1.25it/s]\n"
     ]
    },
    {
     "name": "stdout",
     "output_type": "stream",
     "text": [
      "===> train loss: 0.32\n",
      "===> val loss: 0.73, val iou: 0.67\n",
      "=> saving checkpoint\n",
      "Starting epoch 135\n",
      "learning rate: 0.0001818297866778471\n"
     ]
    },
    {
     "name": "stderr",
     "output_type": "stream",
     "text": [
      "100%|██████████| 51/51 [00:38<00:00,  1.33it/s]\n",
      "100%|██████████| 6/6 [00:04<00:00,  1.25it/s]\n"
     ]
    },
    {
     "name": "stdout",
     "output_type": "stream",
     "text": [
      "===> train loss: 0.31\n",
      "===> val loss: 0.71, val iou: 0.68\n",
      "=> saving checkpoint\n",
      "Starting epoch 136\n",
      "learning rate: 0.00017931019581530385\n"
     ]
    },
    {
     "name": "stderr",
     "output_type": "stream",
     "text": [
      "100%|██████████| 51/51 [00:39<00:00,  1.31it/s]\n",
      "100%|██████████| 6/6 [00:04<00:00,  1.26it/s]\n"
     ]
    },
    {
     "name": "stdout",
     "output_type": "stream",
     "text": [
      "===> train loss: 0.31\n",
      "===> val loss: 0.70, val iou: 0.70\n",
      "=> saving checkpoint\n",
      "Starting epoch 137\n",
      "learning rate: 0.00017678666484628193\n"
     ]
    },
    {
     "name": "stderr",
     "output_type": "stream",
     "text": [
      "100%|██████████| 51/51 [00:38<00:00,  1.31it/s]\n",
      "100%|██████████| 6/6 [00:04<00:00,  1.25it/s]\n"
     ]
    },
    {
     "name": "stdout",
     "output_type": "stream",
     "text": [
      "===> train loss: 0.31\n",
      "===> val loss: 0.73, val iou: 0.69\n",
      "=> saving checkpoint\n",
      "Starting epoch 138\n",
      "learning rate: 0.0001742591249149002\n"
     ]
    },
    {
     "name": "stderr",
     "output_type": "stream",
     "text": [
      "100%|██████████| 51/51 [00:38<00:00,  1.31it/s]\n",
      "100%|██████████| 6/6 [00:04<00:00,  1.26it/s]\n"
     ]
    },
    {
     "name": "stdout",
     "output_type": "stream",
     "text": [
      "===> train loss: 0.31\n",
      "===> val loss: 0.63, val iou: 0.73\n",
      "=> saving checkpoint\n",
      "Starting epoch 139\n",
      "learning rate: 0.00017172750483088596\n"
     ]
    },
    {
     "name": "stderr",
     "output_type": "stream",
     "text": [
      "100%|██████████| 51/51 [00:38<00:00,  1.32it/s]\n",
      "100%|██████████| 6/6 [00:04<00:00,  1.27it/s]\n"
     ]
    },
    {
     "name": "stdout",
     "output_type": "stream",
     "text": [
      "===> train loss: 0.30\n",
      "===> val loss: 0.70, val iou: 0.69\n",
      "=> saving checkpoint\n",
      "Starting epoch 140\n",
      "learning rate: 0.00016919173095082495\n"
     ]
    },
    {
     "name": "stderr",
     "output_type": "stream",
     "text": [
      "100%|██████████| 51/51 [00:38<00:00,  1.31it/s]\n",
      "100%|██████████| 6/6 [00:04<00:00,  1.24it/s]\n"
     ]
    },
    {
     "name": "stdout",
     "output_type": "stream",
     "text": [
      "===> train loss: 0.30\n",
      "===> val loss: 0.75, val iou: 0.67\n",
      "=> saving checkpoint\n",
      "Starting epoch 141\n",
      "learning rate: 0.00016665172705128707\n"
     ]
    },
    {
     "name": "stderr",
     "output_type": "stream",
     "text": [
      "100%|██████████| 51/51 [00:38<00:00,  1.31it/s]\n",
      "100%|██████████| 6/6 [00:04<00:00,  1.25it/s]\n"
     ]
    },
    {
     "name": "stdout",
     "output_type": "stream",
     "text": [
      "===> train loss: 0.30\n",
      "===> val loss: 0.79, val iou: 0.65\n",
      "=> saving checkpoint\n",
      "Starting epoch 142\n",
      "learning rate: 0.00016410741419312688\n"
     ]
    },
    {
     "name": "stderr",
     "output_type": "stream",
     "text": [
      "100%|██████████| 51/51 [00:39<00:00,  1.30it/s]\n",
      "100%|██████████| 6/6 [00:04<00:00,  1.25it/s]\n"
     ]
    },
    {
     "name": "stdout",
     "output_type": "stream",
     "text": [
      "===> train loss: 0.30\n",
      "===> val loss: 0.77, val iou: 0.68\n",
      "=> saving checkpoint\n",
      "Starting epoch 143\n",
      "learning rate: 0.00016155871057618057\n"
     ]
    },
    {
     "name": "stderr",
     "output_type": "stream",
     "text": [
      "100%|██████████| 51/51 [00:39<00:00,  1.31it/s]\n",
      "100%|██████████| 6/6 [00:04<00:00,  1.21it/s]\n"
     ]
    },
    {
     "name": "stdout",
     "output_type": "stream",
     "text": [
      "===> train loss: 0.30\n",
      "===> val loss: 0.78, val iou: 0.70\n",
      "=> saving checkpoint\n",
      "Starting epoch 144\n",
      "learning rate: 0.00015900553138349974\n"
     ]
    },
    {
     "name": "stderr",
     "output_type": "stream",
     "text": [
      "100%|██████████| 51/51 [00:38<00:00,  1.31it/s]\n",
      "100%|██████████| 6/6 [00:04<00:00,  1.23it/s]\n"
     ]
    },
    {
     "name": "stdout",
     "output_type": "stream",
     "text": [
      "===> train loss: 0.30\n",
      "===> val loss: 0.75, val iou: 0.67\n",
      "=> saving checkpoint\n",
      "Starting epoch 145\n",
      "learning rate: 0.00015644778861416783\n"
     ]
    },
    {
     "name": "stderr",
     "output_type": "stream",
     "text": [
      "100%|██████████| 51/51 [00:39<00:00,  1.30it/s]\n",
      "100%|██████████| 6/6 [00:04<00:00,  1.24it/s]\n"
     ]
    },
    {
     "name": "stdout",
     "output_type": "stream",
     "text": [
      "===> train loss: 0.30\n",
      "===> val loss: 0.64, val iou: 0.70\n",
      "=> saving checkpoint\n",
      "Starting epoch 146\n",
      "learning rate: 0.00015388539090363925\n"
     ]
    },
    {
     "name": "stderr",
     "output_type": "stream",
     "text": [
      "100%|██████████| 51/51 [00:38<00:00,  1.32it/s]\n",
      "100%|██████████| 6/6 [00:04<00:00,  1.23it/s]\n"
     ]
    },
    {
     "name": "stdout",
     "output_type": "stream",
     "text": [
      "===> train loss: 0.29\n",
      "===> val loss: 0.72, val iou: 0.67\n",
      "=> saving checkpoint\n",
      "Starting epoch 147\n",
      "learning rate: 0.00015131824333042122\n"
     ]
    },
    {
     "name": "stderr",
     "output_type": "stream",
     "text": [
      "100%|██████████| 51/51 [00:39<00:00,  1.30it/s]\n",
      "100%|██████████| 6/6 [00:04<00:00,  1.24it/s]\n"
     ]
    },
    {
     "name": "stdout",
     "output_type": "stream",
     "text": [
      "===> train loss: 0.30\n",
      "===> val loss: 0.71, val iou: 0.69\n",
      "=> saving checkpoint\n",
      "Starting epoch 148\n",
      "learning rate: 0.00014874624720778262\n"
     ]
    },
    {
     "name": "stderr",
     "output_type": "stream",
     "text": [
      "100%|██████████| 51/51 [00:38<00:00,  1.31it/s]\n",
      "100%|██████████| 6/6 [00:04<00:00,  1.27it/s]\n"
     ]
    },
    {
     "name": "stdout",
     "output_type": "stream",
     "text": [
      "===> train loss: 0.30\n",
      "===> val loss: 0.70, val iou: 0.69\n",
      "=> saving checkpoint\n",
      "Starting epoch 149\n",
      "learning rate: 0.00014616929985901934\n"
     ]
    },
    {
     "name": "stderr",
     "output_type": "stream",
     "text": [
      "100%|██████████| 51/51 [00:38<00:00,  1.33it/s]\n",
      "100%|██████████| 6/6 [00:04<00:00,  1.23it/s]\n"
     ]
    },
    {
     "name": "stdout",
     "output_type": "stream",
     "text": [
      "===> train loss: 0.29\n",
      "===> val loss: 0.77, val iou: 0.66\n",
      "=> saving checkpoint\n",
      "Starting epoch 150\n",
      "learning rate: 0.00014358729437462936\n"
     ]
    },
    {
     "name": "stderr",
     "output_type": "stream",
     "text": [
      "100%|██████████| 51/51 [00:39<00:00,  1.30it/s]\n",
      "100%|██████████| 6/6 [00:04<00:00,  1.25it/s]\n"
     ]
    },
    {
     "name": "stdout",
     "output_type": "stream",
     "text": [
      "===> train loss: 0.29\n",
      "===> val loss: 0.75, val iou: 0.70\n",
      "=> saving checkpoint\n",
      "Starting epoch 151\n",
      "learning rate: 0.0001410001193495505\n"
     ]
    },
    {
     "name": "stderr",
     "output_type": "stream",
     "text": [
      "100%|██████████| 51/51 [00:38<00:00,  1.31it/s]\n",
      "100%|██████████| 6/6 [00:04<00:00,  1.26it/s]\n"
     ]
    },
    {
     "name": "stdout",
     "output_type": "stream",
     "text": [
      "===> train loss: 0.30\n",
      "===> val loss: 0.67, val iou: 0.69\n",
      "=> saving checkpoint\n",
      "Starting epoch 152\n",
      "learning rate: 0.00013840765859838175\n"
     ]
    },
    {
     "name": "stderr",
     "output_type": "stream",
     "text": [
      "100%|██████████| 51/51 [00:39<00:00,  1.31it/s]\n",
      "100%|██████████| 6/6 [00:04<00:00,  1.23it/s]\n"
     ]
    },
    {
     "name": "stdout",
     "output_type": "stream",
     "text": [
      "===> train loss: 0.29\n",
      "===> val loss: 0.73, val iou: 0.69\n",
      "=> saving checkpoint\n",
      "Starting epoch 153\n",
      "learning rate: 0.00013580979084624686\n"
     ]
    },
    {
     "name": "stderr",
     "output_type": "stream",
     "text": [
      "100%|██████████| 51/51 [00:38<00:00,  1.32it/s]\n",
      "100%|██████████| 6/6 [00:04<00:00,  1.26it/s]\n"
     ]
    },
    {
     "name": "stdout",
     "output_type": "stream",
     "text": [
      "===> train loss: 0.29\n",
      "===> val loss: 0.67, val iou: 0.70\n",
      "=> saving checkpoint\n",
      "Starting epoch 154\n",
      "learning rate: 0.00013320638939265194\n"
     ]
    },
    {
     "name": "stderr",
     "output_type": "stream",
     "text": [
      "100%|██████████| 51/51 [00:39<00:00,  1.30it/s]\n",
      "100%|██████████| 6/6 [00:05<00:00,  1.13it/s]\n"
     ]
    },
    {
     "name": "stdout",
     "output_type": "stream",
     "text": [
      "===> train loss: 0.30\n",
      "===> val loss: 0.74, val iou: 0.69\n",
      "=> saving checkpoint\n",
      "Starting epoch 155\n",
      "learning rate: 0.00013059732174533928\n"
     ]
    },
    {
     "name": "stderr",
     "output_type": "stream",
     "text": [
      "100%|██████████| 51/51 [00:40<00:00,  1.27it/s]\n",
      "100%|██████████| 6/6 [00:05<00:00,  1.20it/s]\n"
     ]
    },
    {
     "name": "stdout",
     "output_type": "stream",
     "text": [
      "===> train loss: 0.29\n",
      "===> val loss: 0.74, val iou: 0.66\n",
      "=> saving checkpoint\n",
      "Starting epoch 156\n",
      "learning rate: 0.00012798244922073102\n"
     ]
    },
    {
     "name": "stderr",
     "output_type": "stream",
     "text": [
      "100%|██████████| 51/51 [00:39<00:00,  1.28it/s]\n",
      "100%|██████████| 6/6 [00:05<00:00,  1.19it/s]\n"
     ]
    },
    {
     "name": "stdout",
     "output_type": "stream",
     "text": [
      "===> train loss: 0.30\n",
      "===> val loss: 0.82, val iou: 0.69\n",
      "=> saving checkpoint\n",
      "Starting epoch 157\n",
      "learning rate: 0.0001253616265070845\n"
     ]
    },
    {
     "name": "stderr",
     "output_type": "stream",
     "text": [
      "100%|██████████| 51/51 [00:39<00:00,  1.28it/s]\n",
      "100%|██████████| 6/6 [00:04<00:00,  1.20it/s]\n"
     ]
    },
    {
     "name": "stdout",
     "output_type": "stream",
     "text": [
      "===> train loss: 0.29\n",
      "===> val loss: 0.75, val iou: 0.68\n",
      "=> saving checkpoint\n",
      "Starting epoch 158\n",
      "learning rate: 0.00012273470118592879\n"
     ]
    },
    {
     "name": "stderr",
     "output_type": "stream",
     "text": [
      "100%|██████████| 51/51 [00:40<00:00,  1.27it/s]\n",
      "100%|██████████| 6/6 [00:05<00:00,  1.17it/s]\n"
     ]
    },
    {
     "name": "stdout",
     "output_type": "stream",
     "text": [
      "===> train loss: 0.28\n",
      "===> val loss: 0.67, val iou: 0.71\n",
      "=> saving checkpoint\n",
      "Starting epoch 159\n",
      "learning rate: 0.0001201015132067082\n"
     ]
    },
    {
     "name": "stderr",
     "output_type": "stream",
     "text": [
      "100%|██████████| 51/51 [00:39<00:00,  1.28it/s]\n",
      "100%|██████████| 6/6 [00:04<00:00,  1.20it/s]\n"
     ]
    },
    {
     "name": "stdout",
     "output_type": "stream",
     "text": [
      "===> train loss: 0.28\n",
      "===> val loss: 0.67, val iou: 0.69\n",
      "=> saving checkpoint\n",
      "Starting epoch 160\n",
      "learning rate: 0.00011746189430880188\n"
     ]
    },
    {
     "name": "stderr",
     "output_type": "stream",
     "text": [
      "100%|██████████| 51/51 [00:40<00:00,  1.27it/s]\n",
      "100%|██████████| 6/6 [00:04<00:00,  1.20it/s]\n"
     ]
    },
    {
     "name": "stdout",
     "output_type": "stream",
     "text": [
      "===> train loss: 0.28\n",
      "===> val loss: 0.76, val iou: 0.68\n",
      "=> saving checkpoint\n",
      "Starting epoch 161\n",
      "learning rate: 0.00011481566738419757\n"
     ]
    },
    {
     "name": "stderr",
     "output_type": "stream",
     "text": [
      "100%|██████████| 51/51 [00:39<00:00,  1.28it/s]\n",
      "100%|██████████| 6/6 [00:05<00:00,  1.20it/s]\n"
     ]
    },
    {
     "name": "stdout",
     "output_type": "stream",
     "text": [
      "===> train loss: 0.28\n",
      "===> val loss: 0.67, val iou: 0.69\n",
      "=> saving checkpoint\n",
      "Starting epoch 162\n",
      "learning rate: 0.00011216264577304455\n"
     ]
    },
    {
     "name": "stderr",
     "output_type": "stream",
     "text": [
      "100%|██████████| 51/51 [00:40<00:00,  1.27it/s]\n",
      "100%|██████████| 6/6 [00:05<00:00,  1.18it/s]\n"
     ]
    },
    {
     "name": "stdout",
     "output_type": "stream",
     "text": [
      "===> train loss: 0.28\n",
      "===> val loss: 0.78, val iou: 0.68\n",
      "=> saving checkpoint\n",
      "Starting epoch 163\n",
      "learning rate: 0.00010950263248305968\n"
     ]
    },
    {
     "name": "stderr",
     "output_type": "stream",
     "text": [
      "100%|██████████| 51/51 [00:40<00:00,  1.27it/s]\n",
      "100%|██████████| 6/6 [00:04<00:00,  1.21it/s]\n"
     ]
    },
    {
     "name": "stdout",
     "output_type": "stream",
     "text": [
      "===> train loss: 0.28\n",
      "===> val loss: 0.72, val iou: 0.68\n",
      "=> saving checkpoint\n",
      "Starting epoch 164\n",
      "learning rate: 0.00010683541932226925\n"
     ]
    },
    {
     "name": "stderr",
     "output_type": "stream",
     "text": [
      "100%|██████████| 51/51 [00:40<00:00,  1.27it/s]\n",
      "100%|██████████| 6/6 [00:05<00:00,  1.18it/s]\n"
     ]
    },
    {
     "name": "stdout",
     "output_type": "stream",
     "text": [
      "===> train loss: 0.28\n",
      "===> val loss: 0.82, val iou: 0.66\n",
      "=> saving checkpoint\n",
      "Starting epoch 165\n",
      "learning rate: 0.00010416078593278445\n"
     ]
    },
    {
     "name": "stderr",
     "output_type": "stream",
     "text": [
      "100%|██████████| 51/51 [00:39<00:00,  1.29it/s]\n",
      "100%|██████████| 6/6 [00:05<00:00,  1.15it/s]\n"
     ]
    },
    {
     "name": "stdout",
     "output_type": "stream",
     "text": [
      "===> train loss: 0.27\n",
      "===> val loss: 0.76, val iou: 0.68\n",
      "=> saving checkpoint\n",
      "Starting epoch 166\n",
      "learning rate: 0.00010147849871115699\n"
     ]
    },
    {
     "name": "stderr",
     "output_type": "stream",
     "text": [
      "100%|██████████| 51/51 [00:39<00:00,  1.30it/s]\n",
      "100%|██████████| 6/6 [00:04<00:00,  1.21it/s]\n"
     ]
    },
    {
     "name": "stdout",
     "output_type": "stream",
     "text": [
      "===> train loss: 0.27\n",
      "===> val loss: 0.72, val iou: 0.70\n",
      "=> saving checkpoint\n",
      "Starting epoch 167\n",
      "learning rate: 9.878830959826448e-05\n"
     ]
    },
    {
     "name": "stderr",
     "output_type": "stream",
     "text": [
      "100%|██████████| 51/51 [00:40<00:00,  1.27it/s]\n",
      "100%|██████████| 6/6 [00:04<00:00,  1.21it/s]\n"
     ]
    },
    {
     "name": "stdout",
     "output_type": "stream",
     "text": [
      "===> train loss: 0.28\n",
      "===> val loss: 0.67, val iou: 0.69\n",
      "=> saving checkpoint\n",
      "Starting epoch 168\n",
      "learning rate: 9.608995471851451e-05\n"
     ]
    },
    {
     "name": "stderr",
     "output_type": "stream",
     "text": [
      "100%|██████████| 51/51 [00:39<00:00,  1.30it/s]\n",
      "100%|██████████| 6/6 [00:04<00:00,  1.24it/s]\n"
     ]
    },
    {
     "name": "stdout",
     "output_type": "stream",
     "text": [
      "===> train loss: 0.27\n",
      "===> val loss: 0.75, val iou: 0.67\n",
      "=> saving checkpoint\n",
      "Starting epoch 169\n",
      "learning rate: 9.338315284429349e-05\n"
     ]
    },
    {
     "name": "stderr",
     "output_type": "stream",
     "text": [
      "100%|██████████| 51/51 [00:38<00:00,  1.31it/s]\n",
      "100%|██████████| 6/6 [00:04<00:00,  1.24it/s]\n"
     ]
    },
    {
     "name": "stdout",
     "output_type": "stream",
     "text": [
      "===> train loss: 0.27\n",
      "===> val loss: 0.77, val iou: 0.70\n",
      "=> saving checkpoint\n",
      "Starting epoch 170\n",
      "learning rate: 9.066760365683728e-05\n"
     ]
    },
    {
     "name": "stderr",
     "output_type": "stream",
     "text": [
      "100%|██████████| 51/51 [00:39<00:00,  1.30it/s]\n",
      "100%|██████████| 6/6 [00:04<00:00,  1.25it/s]\n"
     ]
    },
    {
     "name": "stdout",
     "output_type": "stream",
     "text": [
      "===> train loss: 0.27\n",
      "===> val loss: 0.84, val iou: 0.66\n",
      "=> saving checkpoint\n",
      "Starting epoch 171\n",
      "learning rate: 8.79429857688226e-05\n"
     ]
    },
    {
     "name": "stderr",
     "output_type": "stream",
     "text": [
      "100%|██████████| 51/51 [00:39<00:00,  1.30it/s]\n",
      "100%|██████████| 6/6 [00:04<00:00,  1.26it/s]\n"
     ]
    },
    {
     "name": "stdout",
     "output_type": "stream",
     "text": [
      "===> train loss: 0.28\n",
      "===> val loss: 0.68, val iou: 0.69\n",
      "=> saving checkpoint\n",
      "Starting epoch 172\n",
      "learning rate: 8.520895446665837e-05\n"
     ]
    },
    {
     "name": "stderr",
     "output_type": "stream",
     "text": [
      "100%|██████████| 51/51 [00:38<00:00,  1.31it/s]\n",
      "100%|██████████| 6/6 [00:04<00:00,  1.24it/s]\n"
     ]
    },
    {
     "name": "stdout",
     "output_type": "stream",
     "text": [
      "===> train loss: 0.27\n",
      "===> val loss: 0.77, val iou: 0.65\n",
      "=> saving checkpoint\n",
      "Starting epoch 173\n",
      "learning rate: 8.24651391212722e-05\n"
     ]
    },
    {
     "name": "stderr",
     "output_type": "stream",
     "text": [
      "100%|██████████| 51/51 [00:39<00:00,  1.30it/s]\n",
      "100%|██████████| 6/6 [00:04<00:00,  1.25it/s]\n"
     ]
    },
    {
     "name": "stdout",
     "output_type": "stream",
     "text": [
      "===> train loss: 0.27\n",
      "===> val loss: 0.76, val iou: 0.68\n",
      "=> saving checkpoint\n",
      "Starting epoch 174\n",
      "learning rate: 7.971114020458232e-05\n"
     ]
    },
    {
     "name": "stderr",
     "output_type": "stream",
     "text": [
      "100%|██████████| 51/51 [00:39<00:00,  1.30it/s]\n",
      "100%|██████████| 6/6 [00:04<00:00,  1.23it/s]\n"
     ]
    },
    {
     "name": "stdout",
     "output_type": "stream",
     "text": [
      "===> train loss: 0.27\n",
      "===> val loss: 0.79, val iou: 0.65\n",
      "=> saving checkpoint\n",
      "Starting epoch 175\n",
      "learning rate: 7.694652583405728e-05\n"
     ]
    },
    {
     "name": "stderr",
     "output_type": "stream",
     "text": [
      "100%|██████████| 51/51 [00:38<00:00,  1.31it/s]\n",
      "100%|██████████| 6/6 [00:04<00:00,  1.24it/s]\n"
     ]
    },
    {
     "name": "stdout",
     "output_type": "stream",
     "text": [
      "===> train loss: 0.26\n",
      "===> val loss: 0.76, val iou: 0.66\n",
      "=> saving checkpoint\n",
      "Starting epoch 176\n",
      "learning rate: 7.417082774876436e-05\n"
     ]
    },
    {
     "name": "stderr",
     "output_type": "stream",
     "text": [
      "100%|██████████| 51/51 [00:38<00:00,  1.31it/s]\n",
      "100%|██████████| 6/6 [00:04<00:00,  1.23it/s]\n"
     ]
    },
    {
     "name": "stdout",
     "output_type": "stream",
     "text": [
      "===> train loss: 0.27\n",
      "===> val loss: 0.66, val iou: 0.71\n",
      "=> saving checkpoint\n",
      "Starting epoch 177\n",
      "learning rate: 7.138353659566018e-05\n"
     ]
    },
    {
     "name": "stderr",
     "output_type": "stream",
     "text": [
      "100%|██████████| 51/51 [00:38<00:00,  1.31it/s]\n",
      "100%|██████████| 6/6 [00:04<00:00,  1.27it/s]\n"
     ]
    },
    {
     "name": "stdout",
     "output_type": "stream",
     "text": [
      "===> train loss: 0.27\n",
      "===> val loss: 0.61, val iou: 0.68\n",
      "=> saving checkpoint\n",
      "Starting epoch 178\n",
      "learning rate: 6.85840963725891e-05\n"
     ]
    },
    {
     "name": "stderr",
     "output_type": "stream",
     "text": [
      "100%|██████████| 51/51 [00:38<00:00,  1.31it/s]\n",
      "100%|██████████| 6/6 [00:04<00:00,  1.24it/s]\n"
     ]
    },
    {
     "name": "stdout",
     "output_type": "stream",
     "text": [
      "===> train loss: 0.27\n",
      "===> val loss: 0.68, val iou: 0.70\n",
      "=> saving checkpoint\n",
      "Starting epoch 179\n",
      "learning rate: 6.577189783170008e-05\n"
     ]
    },
    {
     "name": "stderr",
     "output_type": "stream",
     "text": [
      "100%|██████████| 51/51 [00:39<00:00,  1.30it/s]\n",
      "100%|██████████| 6/6 [00:04<00:00,  1.25it/s]\n"
     ]
    },
    {
     "name": "stdout",
     "output_type": "stream",
     "text": [
      "===> train loss: 0.27\n",
      "===> val loss: 0.73, val iou: 0.66\n",
      "=> saving checkpoint\n",
      "Starting epoch 180\n",
      "learning rate: 6.294627058970836e-05\n"
     ]
    },
    {
     "name": "stderr",
     "output_type": "stream",
     "text": [
      "100%|██████████| 51/51 [00:38<00:00,  1.32it/s]\n",
      "100%|██████████| 6/6 [00:04<00:00,  1.25it/s]\n"
     ]
    },
    {
     "name": "stdout",
     "output_type": "stream",
     "text": [
      "===> train loss: 0.26\n",
      "===> val loss: 0.75, val iou: 0.66\n",
      "=> saving checkpoint\n",
      "Starting epoch 181\n",
      "learning rate: 6.010647361370384e-05\n"
     ]
    },
    {
     "name": "stderr",
     "output_type": "stream",
     "text": [
      "100%|██████████| 51/51 [00:39<00:00,  1.31it/s]\n",
      "100%|██████████| 6/6 [00:04<00:00,  1.23it/s]\n"
     ]
    },
    {
     "name": "stdout",
     "output_type": "stream",
     "text": [
      "===> train loss: 0.27\n",
      "===> val loss: 0.77, val iou: 0.63\n",
      "=> saving checkpoint\n",
      "Starting epoch 182\n",
      "learning rate: 5.7251683644272626e-05\n"
     ]
    },
    {
     "name": "stderr",
     "output_type": "stream",
     "text": [
      "100%|██████████| 51/51 [00:38<00:00,  1.31it/s]\n",
      "100%|██████████| 6/6 [00:04<00:00,  1.26it/s]\n"
     ]
    },
    {
     "name": "stdout",
     "output_type": "stream",
     "text": [
      "===> train loss: 0.26\n",
      "===> val loss: 0.75, val iou: 0.67\n",
      "=> saving checkpoint\n",
      "Starting epoch 183\n",
      "learning rate: 5.438098096832071e-05\n"
     ]
    },
    {
     "name": "stderr",
     "output_type": "stream",
     "text": [
      "100%|██████████| 51/51 [00:39<00:00,  1.30it/s]\n",
      "100%|██████████| 6/6 [00:04<00:00,  1.24it/s]\n"
     ]
    },
    {
     "name": "stdout",
     "output_type": "stream",
     "text": [
      "===> train loss: 0.26\n",
      "===> val loss: 0.74, val iou: 0.68\n",
      "=> saving checkpoint\n",
      "Starting epoch 184\n",
      "learning rate: 5.149333174180893e-05\n"
     ]
    },
    {
     "name": "stderr",
     "output_type": "stream",
     "text": [
      "100%|██████████| 51/51 [00:39<00:00,  1.31it/s]\n",
      "100%|██████████| 6/6 [00:04<00:00,  1.26it/s]\n"
     ]
    },
    {
     "name": "stdout",
     "output_type": "stream",
     "text": [
      "===> train loss: 0.26\n",
      "===> val loss: 0.67, val iou: 0.70\n",
      "=> saving checkpoint\n",
      "Starting epoch 185\n",
      "learning rate: 4.858756575557835e-05\n"
     ]
    },
    {
     "name": "stderr",
     "output_type": "stream",
     "text": [
      "100%|██████████| 51/51 [00:38<00:00,  1.31it/s]\n",
      "100%|██████████| 6/6 [00:04<00:00,  1.24it/s]\n"
     ]
    },
    {
     "name": "stdout",
     "output_type": "stream",
     "text": [
      "===> train loss: 0.26\n",
      "===> val loss: 0.78, val iou: 0.67\n",
      "=> saving checkpoint\n",
      "Starting epoch 186\n",
      "learning rate: 4.566234808391386e-05\n"
     ]
    },
    {
     "name": "stderr",
     "output_type": "stream",
     "text": [
      "100%|██████████| 51/51 [00:38<00:00,  1.32it/s]\n",
      "100%|██████████| 6/6 [00:04<00:00,  1.24it/s]\n"
     ]
    },
    {
     "name": "stdout",
     "output_type": "stream",
     "text": [
      "===> train loss: 0.25\n",
      "===> val loss: 0.72, val iou: 0.67\n",
      "=> saving checkpoint\n",
      "Starting epoch 187\n",
      "learning rate: 4.2716142369890524e-05\n"
     ]
    },
    {
     "name": "stderr",
     "output_type": "stream",
     "text": [
      "100%|██████████| 51/51 [00:38<00:00,  1.32it/s]\n",
      "100%|██████████| 6/6 [00:04<00:00,  1.25it/s]\n"
     ]
    },
    {
     "name": "stdout",
     "output_type": "stream",
     "text": [
      "===> train loss: 0.26\n",
      "===> val loss: 0.70, val iou: 0.68\n",
      "=> saving checkpoint\n",
      "Starting epoch 188\n",
      "learning rate: 3.974716243773811e-05\n"
     ]
    },
    {
     "name": "stderr",
     "output_type": "stream",
     "text": [
      "100%|██████████| 51/51 [00:39<00:00,  1.31it/s]\n",
      "100%|██████████| 6/6 [00:04<00:00,  1.25it/s]\n"
     ]
    },
    {
     "name": "stdout",
     "output_type": "stream",
     "text": [
      "===> train loss: 0.26\n",
      "===> val loss: 0.72, val iou: 0.68\n",
      "=> saving checkpoint\n",
      "Starting epoch 189\n",
      "learning rate: 3.675330722208635e-05\n"
     ]
    },
    {
     "name": "stderr",
     "output_type": "stream",
     "text": [
      "100%|██████████| 51/51 [00:38<00:00,  1.32it/s]\n",
      "100%|██████████| 6/6 [00:04<00:00,  1.27it/s]\n"
     ]
    },
    {
     "name": "stdout",
     "output_type": "stream",
     "text": [
      "===> train loss: 0.25\n",
      "===> val loss: 0.73, val iou: 0.68\n",
      "=> saving checkpoint\n",
      "Starting epoch 190\n",
      "learning rate: 3.373207119183911e-05\n"
     ]
    },
    {
     "name": "stderr",
     "output_type": "stream",
     "text": [
      "100%|██████████| 51/51 [00:38<00:00,  1.31it/s]\n",
      "100%|██████████| 6/6 [00:04<00:00,  1.23it/s]\n"
     ]
    },
    {
     "name": "stdout",
     "output_type": "stream",
     "text": [
      "===> train loss: 0.26\n",
      "===> val loss: 0.82, val iou: 0.64\n",
      "=> saving checkpoint\n",
      "Starting epoch 191\n",
      "learning rate: 3.06804176077273e-05\n"
     ]
    },
    {
     "name": "stderr",
     "output_type": "stream",
     "text": [
      "100%|██████████| 51/51 [00:38<00:00,  1.31it/s]\n",
      "100%|██████████| 6/6 [00:04<00:00,  1.24it/s]\n"
     ]
    },
    {
     "name": "stdout",
     "output_type": "stream",
     "text": [
      "===> train loss: 0.26\n",
      "===> val loss: 0.74, val iou: 0.67\n",
      "=> saving checkpoint\n",
      "Starting epoch 192\n",
      "learning rate: 2.7594593229224316e-05\n"
     ]
    },
    {
     "name": "stderr",
     "output_type": "stream",
     "text": [
      "100%|██████████| 51/51 [00:39<00:00,  1.30it/s]\n",
      "100%|██████████| 6/6 [00:04<00:00,  1.20it/s]\n"
     ]
    },
    {
     "name": "stdout",
     "output_type": "stream",
     "text": [
      "===> train loss: 0.26\n",
      "===> val loss: 0.83, val iou: 0.66\n",
      "=> saving checkpoint\n",
      "Starting epoch 193\n",
      "learning rate: 2.446984645671695e-05\n"
     ]
    },
    {
     "name": "stderr",
     "output_type": "stream",
     "text": [
      "100%|██████████| 51/51 [00:38<00:00,  1.33it/s]\n",
      "100%|██████████| 6/6 [00:04<00:00,  1.21it/s]\n"
     ]
    },
    {
     "name": "stdout",
     "output_type": "stream",
     "text": [
      "===> train loss: 0.25\n",
      "===> val loss: 0.76, val iou: 0.67\n",
      "=> saving checkpoint\n",
      "Starting epoch 194\n",
      "learning rate: 2.1299976955943536e-05\n"
     ]
    },
    {
     "name": "stderr",
     "output_type": "stream",
     "text": [
      "100%|██████████| 51/51 [00:39<00:00,  1.30it/s]\n",
      "100%|██████████| 6/6 [00:04<00:00,  1.25it/s]\n"
     ]
    },
    {
     "name": "stdout",
     "output_type": "stream",
     "text": [
      "===> train loss: 0.25\n",
      "===> val loss: 0.81, val iou: 0.66\n",
      "=> saving checkpoint\n",
      "Starting epoch 195\n",
      "learning rate: 1.8076569369899076e-05\n"
     ]
    },
    {
     "name": "stderr",
     "output_type": "stream",
     "text": [
      "100%|██████████| 51/51 [00:38<00:00,  1.31it/s]\n",
      "100%|██████████| 6/6 [00:04<00:00,  1.27it/s]\n"
     ]
    },
    {
     "name": "stdout",
     "output_type": "stream",
     "text": [
      "===> train loss: 0.25\n",
      "===> val loss: 0.76, val iou: 0.66\n",
      "=> saving checkpoint\n",
      "Starting epoch 196\n",
      "learning rate: 1.4787576366283148e-05\n"
     ]
    },
    {
     "name": "stderr",
     "output_type": "stream",
     "text": [
      "100%|██████████| 51/51 [00:38<00:00,  1.33it/s]\n",
      "100%|██████████| 6/6 [00:04<00:00,  1.25it/s]\n"
     ]
    },
    {
     "name": "stdout",
     "output_type": "stream",
     "text": [
      "===> train loss: 0.25\n",
      "===> val loss: 0.75, val iou: 0.68\n",
      "=> saving checkpoint\n",
      "Starting epoch 197\n",
      "learning rate: 1.1414375027007427e-05\n"
     ]
    },
    {
     "name": "stderr",
     "output_type": "stream",
     "text": [
      "100%|██████████| 51/51 [00:39<00:00,  1.31it/s]\n",
      "100%|██████████| 6/6 [00:04<00:00,  1.23it/s]\n"
     ]
    },
    {
     "name": "stdout",
     "output_type": "stream",
     "text": [
      "===> train loss: 0.25\n",
      "===> val loss: 0.72, val iou: 0.69\n",
      "=> saving checkpoint\n",
      "Starting epoch 198\n",
      "learning rate: 7.924465962305572e-06\n"
     ]
    },
    {
     "name": "stderr",
     "output_type": "stream",
     "text": [
      "100%|██████████| 51/51 [00:39<00:00,  1.30it/s]\n",
      "100%|██████████| 6/6 [00:04<00:00,  1.21it/s]\n"
     ]
    },
    {
     "name": "stdout",
     "output_type": "stream",
     "text": [
      "===> train loss: 0.26\n",
      "===> val loss: 0.72, val iou: 0.67\n",
      "=> saving checkpoint\n",
      "Starting epoch 199\n",
      "learning rate: 4.2466161615856206e-06\n"
     ]
    },
    {
     "name": "stderr",
     "output_type": "stream",
     "text": [
      "100%|██████████| 51/51 [00:39<00:00,  1.31it/s]\n",
      "100%|██████████| 6/6 [00:04<00:00,  1.24it/s]"
     ]
    },
    {
     "name": "stdout",
     "output_type": "stream",
     "text": [
      "===> train loss: 0.25\n",
      "===> val loss: 0.72, val iou: 0.68\n",
      "=> saving checkpoint\n"
     ]
    },
    {
     "name": "stderr",
     "output_type": "stream",
     "text": [
      "\n"
     ]
    }
   ],
   "source": [
    "begin_training(train_dataset_dict, val_dataset_dict, model_dict, loss_dict, configs)"
   ]
  },
  {
   "cell_type": "markdown",
   "metadata": {},
   "source": [
    "<div class=\"alert alert-block alert-warning\"> \n",
    "  Common causes for errors during training, may include : <br>\n",
    "    1. Not having <b>center images</b> for  <b>both</b> train and val directories  <br>\n",
    "    2. <b>Mismatch</b> between type of center-images saved in <b>01-data.ipynb</b> and the type of center chosen in this notebook (see the <b><a href=\"#center\"> center</a></b> parameter in the third code cell in this notebook)   <br>\n",
    "    3. In case of resuming training from a previous checkpoint, please ensure that the model weights are read from the correct directory, using the <b><a href=\"#resume\"> resume_path</a></b> parameter. Additionally, please ensure that the <b>save_dir</b> parameter for saving the model weights points to a relevant directory. \n",
    "</div>"
   ]
  },
  {
   "cell_type": "code",
   "execution_count": null,
   "metadata": {},
   "outputs": [],
   "source": []
  }
 ],
 "metadata": {
  "kernelspec": {
   "display_name": "Python 3 (ipykernel)",
   "language": "python",
   "name": "python3"
  },
  "language_info": {
   "codemirror_mode": {
    "name": "ipython",
    "version": 3
   },
   "file_extension": ".py",
   "mimetype": "text/x-python",
   "name": "python",
   "nbconvert_exporter": "python",
   "pygments_lexer": "ipython3",
   "version": "3.7.0"
  },
  "pycharm": {
   "stem_cell": {
    "cell_type": "raw",
    "metadata": {
     "collapsed": false
    },
    "source": []
   }
  },
  "toc": {
   "base_numbering": 1,
   "nav_menu": {},
   "number_sections": true,
   "sideBar": false,
   "skip_h1_title": false,
   "title_cell": "Table of Contents",
   "title_sidebar": "Contents",
   "toc_cell": false,
   "toc_position": {
    "height": "47.7167px",
    "left": "1689.05px",
    "top": "111.133px",
    "width": "158.95px"
   },
   "toc_section_display": false,
   "toc_window_display": false
  }
 },
 "nbformat": 4,
 "nbformat_minor": 4
}
